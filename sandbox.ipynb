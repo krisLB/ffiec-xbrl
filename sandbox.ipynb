{
 "cells": [
  {
   "cell_type": "code",
   "execution_count": 8,
   "metadata": {},
   "outputs": [],
   "source": [
    "import glob\n",
    "\n",
    "path = '/Users/kris/data_sources/fdic/BulkReports/'"
   ]
  },
  {
   "cell_type": "code",
   "execution_count": 10,
   "metadata": {},
   "outputs": [
    {
     "name": "stdout",
     "output_type": "stream",
     "text": [
      "/Users/kris/data_sources/fdic/BulkReports/BANK OF EASTERN OREGON_14865\n",
      "/Users/kris/data_sources/fdic/BulkReports/KCB BANK_5751\n",
      "/Users/kris/data_sources/fdic/BulkReports/PINELAND BANK_6039\n",
      "/Users/kris/data_sources/fdic/BulkReports/DIME COMMUNITY BANK_23504\n",
      "/Users/kris/data_sources/fdic/BulkReports/GENOA COMMUNITY BANK_2750\n",
      "/Users/kris/data_sources/fdic/BulkReports/LAMAR NATIONAL BANK_2161\n",
      "/Users/kris/data_sources/fdic/BulkReports/PEOPLES BANK THE_7045\n",
      "/Users/kris/data_sources/fdic/BulkReports/FIRST NATIONAL BANK OF GORDON THE_3252\n",
      "/Users/kris/data_sources/fdic/BulkReports/WEST UNION BANK_22730\n",
      "/Users/kris/data_sources/fdic/BulkReports/FNB SOUTH_12030\n",
      "/Users/kris/data_sources/fdic/BulkReports/FARMERS AND MERCHANTS BANK_4231\n",
      "/Users/kris/data_sources/fdic/BulkReports/F  C BANK_14155\n",
      "/Users/kris/data_sources/fdic/BulkReports/BANK7_18854\n",
      "/Users/kris/data_sources/fdic/BulkReports/BANK OF CLARENDON THE_3720\n",
      "/Users/kris/data_sources/fdic/BulkReports/HAVERFORD TRUST COMPANY THE_17110\n",
      "/Users/kris/data_sources/fdic/BulkReports/WASHITA STATE BANK_1856\n",
      "/Users/kris/data_sources/fdic/BulkReports/SECURITY BANK_20053\n",
      "/Users/kris/data_sources/fdic/BulkReports/FIRST NATIONAL BANK IN MARLOW THE_17259\n",
      "/Users/kris/data_sources/fdic/BulkReports/BROADSTREET BANK SSB_279\n",
      "/Users/kris/data_sources/fdic/BulkReports/CITIZENS BANK OF AMERICUS_19936\n",
      "/Users/kris/data_sources/fdic/BulkReports/FUSION BANK_9955\n",
      "/Users/kris/data_sources/fdic/BulkReports/MCNB BANK AND TRUST CO_20633\n",
      "/Users/kris/data_sources/fdic/BulkReports/FOUR COUNTY BANK THE_7634\n",
      "/Users/kris/data_sources/fdic/BulkReports/FIRST NATIONAL BANK OF BASTROP THE_18050\n",
      "/Users/kris/data_sources/fdic/BulkReports/CLEVELAND STATE BANK THE_12142\n",
      "/Users/kris/data_sources/fdic/BulkReports/NEXTIER BANK NA_18827\n",
      "/Users/kris/data_sources/fdic/BulkReports/HUNTINGTON NATIONAL BANK THE_12311\n",
      "/Users/kris/data_sources/fdic/BulkReports/FIRST NATIONAL BANK OF HENNING THE_23456\n",
      "/Users/kris/data_sources/fdic/BulkReports/PLEASANTS COUNTY BANK THE_8631\n",
      "/Users/kris/data_sources/fdic/BulkReports/ANDERSON BROTHERS BANK_6329\n",
      "/Users/kris/data_sources/fdic/BulkReports/BANK OF ELK RIVER THE_10250\n",
      "/Users/kris/data_sources/fdic/BulkReports/FIRST CREDIT BANK_5069\n",
      "/Users/kris/data_sources/fdic/BulkReports/FARMERS BUILDING AND SAVINGS BANK_19972\n",
      "/Users/kris/data_sources/fdic/BulkReports/RVR BANK_1155\n",
      "/Users/kris/data_sources/fdic/BulkReports/LEGENDS WEST BANK_13457\n",
      "/Users/kris/data_sources/fdic/BulkReports/BALLSTON SPA NATIONAL BANK_505\n",
      "/Users/kris/data_sources/fdic/BulkReports/FIRST STATE BANK OF BLAKELY_5135\n",
      "/Users/kris/data_sources/fdic/BulkReports/ALL CAPITAL BANK_14650\n",
      "/Users/kris/data_sources/fdic/BulkReports/AMBOY BANK_9807\n",
      "/Users/kris/data_sources/fdic/BulkReports/LOWRY STATE BANK_457\n",
      "/Users/kris/data_sources/fdic/BulkReports/SCALE BANK_9357\n",
      "/Users/kris/data_sources/fdic/BulkReports/HILLTOP NATIONAL BANK_1454\n",
      "/Users/kris/data_sources/fdic/BulkReports/SECURITY BANK AND TRUST COMPANY_19356\n",
      "/Users/kris/data_sources/fdic/BulkReports/UNION BANK  TRUST COMPANY_22048\n",
      "/Users/kris/data_sources/fdic/BulkReports/FIRST NATIONAL BANK OF CLARKSDALE_11640\n",
      "/Users/kris/data_sources/fdic/BulkReports/NORTHVIEW BANK_16551\n",
      "/Users/kris/data_sources/fdic/BulkReports/ADAMS COUNTY BANK_9553\n",
      "/Users/kris/data_sources/fdic/BulkReports/FIRST SOUTHEAST BANK_22552\n",
      "/Users/kris/data_sources/fdic/BulkReports/ELYSIAN BANK_13251\n",
      "/Users/kris/data_sources/fdic/BulkReports/ALLIANCE BANK_21658\n",
      "/Users/kris/data_sources/fdic/BulkReports/MIDCOUNTRY BANK_3971\n",
      "/Users/kris/data_sources/fdic/BulkReports/ELIZABETHTON FEDERAL SAVINGS BANK_17978\n",
      "/Users/kris/data_sources/fdic/BulkReports/BANK OF HANCOCK COUNTY_37\n",
      "/Users/kris/data_sources/fdic/BulkReports/FARMERS STATE BANK OF BUCKLIN KANSAS THE_14753\n",
      "/Users/kris/data_sources/fdic/BulkReports/ALBANY BANK  TRUST CO NATIONAL ASSOCIATION_2732\n",
      "/Users/kris/data_sources/fdic/BulkReports/CAPON VALLEY BANK_18836\n",
      "/Users/kris/data_sources/fdic/BulkReports/BISON STATE BANK_354\n",
      "/Users/kris/data_sources/fdic/BulkReports/MasterCall.csv\n",
      "/Users/kris/data_sources/fdic/BulkReports/COMMERCIAL BANK  TRUST COMPANY_23643\n",
      "/Users/kris/data_sources/fdic/BulkReports/BESSEMER TRUST COMPANY_7009\n",
      "/Users/kris/data_sources/fdic/BulkReports/KANZA BANK_4156\n",
      "/Users/kris/data_sources/fdic/BulkReports/FIRST COMMUNITY BANK XENIAFLORA_242\n",
      "/Users/kris/data_sources/fdic/BulkReports/FIRST FEDERAL BANK LITTLEFIELD TEXAS SSB_14977\n",
      "/Users/kris/data_sources/fdic/BulkReports/STATE SAVINGS BANK_22543\n",
      "/Users/kris/data_sources/fdic/BulkReports/FM BANK_20857\n",
      "/Users/kris/data_sources/fdic/BulkReports/BRISTOL COUNTY SAVINGS BANK_13103\n",
      "/Users/kris/data_sources/fdic/BulkReports/BANK OF GRANDIN_1351\n",
      "/Users/kris/data_sources/fdic/BulkReports/LIBERTY NATIONAL BANK IN PARIS THE_1669\n",
      "/Users/kris/data_sources/fdic/BulkReports/STATE BANK OF BURRTON_21256\n",
      "/Users/kris/data_sources/fdic/BulkReports/FIRST MERCHANTS BANK_17147\n",
      "/Users/kris/data_sources/fdic/BulkReports/AMERICAN STATE BANK OF GRYGLA_21359\n",
      "/Users/kris/data_sources/fdic/BulkReports/PORTAGE COUNTY BANK THE_12647\n",
      "/Users/kris/data_sources/fdic/BulkReports/WALLKILL VALLEY FEDERAL SAVINGS AND LOAN ASSOCIATION_7072\n",
      "/Users/kris/data_sources/fdic/BulkReports/BANK OF BRIDGER NATIONAL ASSOCIATION_17950\n",
      "/Users/kris/data_sources/fdic/BulkReports/FARMBANK_3458\n",
      "/Users/kris/data_sources/fdic/BulkReports/FARMERS BANK THE_11837\n",
      "/Users/kris/data_sources/fdic/BulkReports/LAKEOSCEOLA STATE BANK_11145\n",
      "/Users/kris/data_sources/fdic/BulkReports/FIRST STATE BANK_10849\n",
      "/Users/kris/data_sources/fdic/BulkReports/PERRYTON NATIONAL BANK THE_8462\n",
      "/Users/kris/data_sources/fdic/BulkReports/ACNB BANK_5210\n",
      "/Users/kris/data_sources/fdic/BulkReports/FARMERS BANK  TRUST COMPANY_12946\n",
      "/Users/kris/data_sources/fdic/BulkReports/BAC COMMUNITY BANK_5461\n",
      "/Users/kris/data_sources/fdic/BulkReports/BANK OF HARTINGTON_7456\n",
      "test\n"
     ]
    }
   ],
   "source": [
    "for folder in glob.glob(path + '*[!.]'):\n",
    "    print(f'{folder}')"
   ]
  },
  {
   "cell_type": "code",
   "execution_count": 9,
   "metadata": {},
   "outputs": [
    {
     "name": "stdout",
     "output_type": "stream",
     "text": [
      "['/Users/kris/data_sources/fdic/BulkReports/BANK OF EASTERN OREGON_14865', '/Users/kris/data_sources/fdic/BulkReports/KCB BANK_5751', '/Users/kris/data_sources/fdic/BulkReports/PINELAND BANK_6039', '/Users/kris/data_sources/fdic/BulkReports/DIME COMMUNITY BANK_23504', '/Users/kris/data_sources/fdic/BulkReports/GENOA COMMUNITY BANK_2750', '/Users/kris/data_sources/fdic/BulkReports/LAMAR NATIONAL BANK_2161', '/Users/kris/data_sources/fdic/BulkReports/PEOPLES BANK THE_7045', '/Users/kris/data_sources/fdic/BulkReports/FIRST NATIONAL BANK OF GORDON THE_3252', '/Users/kris/data_sources/fdic/BulkReports/WEST UNION BANK_22730', '/Users/kris/data_sources/fdic/BulkReports/FNB SOUTH_12030', '/Users/kris/data_sources/fdic/BulkReports/FARMERS AND MERCHANTS BANK_4231', '/Users/kris/data_sources/fdic/BulkReports/F  C BANK_14155', '/Users/kris/data_sources/fdic/BulkReports/BANK7_18854', '/Users/kris/data_sources/fdic/BulkReports/BANK OF CLARENDON THE_3720', '/Users/kris/data_sources/fdic/BulkReports/HAVERFORD TRUST COMPANY THE_17110', '/Users/kris/data_sources/fdic/BulkReports/WASHITA STATE BANK_1856', '/Users/kris/data_sources/fdic/BulkReports/SECURITY BANK_20053', '/Users/kris/data_sources/fdic/BulkReports/FIRST NATIONAL BANK IN MARLOW THE_17259', '/Users/kris/data_sources/fdic/BulkReports/BROADSTREET BANK SSB_279', '/Users/kris/data_sources/fdic/BulkReports/CITIZENS BANK OF AMERICUS_19936', '/Users/kris/data_sources/fdic/BulkReports/FUSION BANK_9955', '/Users/kris/data_sources/fdic/BulkReports/MCNB BANK AND TRUST CO_20633', '/Users/kris/data_sources/fdic/BulkReports/FOUR COUNTY BANK THE_7634', '/Users/kris/data_sources/fdic/BulkReports/FIRST NATIONAL BANK OF BASTROP THE_18050', '/Users/kris/data_sources/fdic/BulkReports/CLEVELAND STATE BANK THE_12142', '/Users/kris/data_sources/fdic/BulkReports/NEXTIER BANK NA_18827', '/Users/kris/data_sources/fdic/BulkReports/HUNTINGTON NATIONAL BANK THE_12311', '/Users/kris/data_sources/fdic/BulkReports/FIRST NATIONAL BANK OF HENNING THE_23456', '/Users/kris/data_sources/fdic/BulkReports/PLEASANTS COUNTY BANK THE_8631', '/Users/kris/data_sources/fdic/BulkReports/ANDERSON BROTHERS BANK_6329', '/Users/kris/data_sources/fdic/BulkReports/BANK OF ELK RIVER THE_10250', '/Users/kris/data_sources/fdic/BulkReports/FIRST CREDIT BANK_5069', '/Users/kris/data_sources/fdic/BulkReports/FARMERS BUILDING AND SAVINGS BANK_19972', '/Users/kris/data_sources/fdic/BulkReports/RVR BANK_1155', '/Users/kris/data_sources/fdic/BulkReports/LEGENDS WEST BANK_13457', '/Users/kris/data_sources/fdic/BulkReports/BALLSTON SPA NATIONAL BANK_505', '/Users/kris/data_sources/fdic/BulkReports/FIRST STATE BANK OF BLAKELY_5135', '/Users/kris/data_sources/fdic/BulkReports/ALL CAPITAL BANK_14650', '/Users/kris/data_sources/fdic/BulkReports/AMBOY BANK_9807', '/Users/kris/data_sources/fdic/BulkReports/LOWRY STATE BANK_457', '/Users/kris/data_sources/fdic/BulkReports/SCALE BANK_9357', '/Users/kris/data_sources/fdic/BulkReports/HILLTOP NATIONAL BANK_1454', '/Users/kris/data_sources/fdic/BulkReports/SECURITY BANK AND TRUST COMPANY_19356', '/Users/kris/data_sources/fdic/BulkReports/UNION BANK  TRUST COMPANY_22048', '/Users/kris/data_sources/fdic/BulkReports/FIRST NATIONAL BANK OF CLARKSDALE_11640', '/Users/kris/data_sources/fdic/BulkReports/NORTHVIEW BANK_16551', '/Users/kris/data_sources/fdic/BulkReports/ADAMS COUNTY BANK_9553', '/Users/kris/data_sources/fdic/BulkReports/FIRST SOUTHEAST BANK_22552', '/Users/kris/data_sources/fdic/BulkReports/ELYSIAN BANK_13251', '/Users/kris/data_sources/fdic/BulkReports/ALLIANCE BANK_21658', '/Users/kris/data_sources/fdic/BulkReports/MIDCOUNTRY BANK_3971', '/Users/kris/data_sources/fdic/BulkReports/ELIZABETHTON FEDERAL SAVINGS BANK_17978', '/Users/kris/data_sources/fdic/BulkReports/BANK OF HANCOCK COUNTY_37', '/Users/kris/data_sources/fdic/BulkReports/FARMERS STATE BANK OF BUCKLIN KANSAS THE_14753', '/Users/kris/data_sources/fdic/BulkReports/ALBANY BANK  TRUST CO NATIONAL ASSOCIATION_2732', '/Users/kris/data_sources/fdic/BulkReports/CAPON VALLEY BANK_18836', '/Users/kris/data_sources/fdic/BulkReports/BISON STATE BANK_354', '/Users/kris/data_sources/fdic/BulkReports/MasterCall.csv', '/Users/kris/data_sources/fdic/BulkReports/COMMERCIAL BANK  TRUST COMPANY_23643', '/Users/kris/data_sources/fdic/BulkReports/BESSEMER TRUST COMPANY_7009', '/Users/kris/data_sources/fdic/BulkReports/KANZA BANK_4156', '/Users/kris/data_sources/fdic/BulkReports/FIRST COMMUNITY BANK XENIAFLORA_242', '/Users/kris/data_sources/fdic/BulkReports/FIRST FEDERAL BANK LITTLEFIELD TEXAS SSB_14977', '/Users/kris/data_sources/fdic/BulkReports/STATE SAVINGS BANK_22543', '/Users/kris/data_sources/fdic/BulkReports/FM BANK_20857', '/Users/kris/data_sources/fdic/BulkReports/BRISTOL COUNTY SAVINGS BANK_13103', '/Users/kris/data_sources/fdic/BulkReports/BANK OF GRANDIN_1351', '/Users/kris/data_sources/fdic/BulkReports/LIBERTY NATIONAL BANK IN PARIS THE_1669', '/Users/kris/data_sources/fdic/BulkReports/STATE BANK OF BURRTON_21256', '/Users/kris/data_sources/fdic/BulkReports/FIRST MERCHANTS BANK_17147', '/Users/kris/data_sources/fdic/BulkReports/AMERICAN STATE BANK OF GRYGLA_21359', '/Users/kris/data_sources/fdic/BulkReports/PORTAGE COUNTY BANK THE_12647', '/Users/kris/data_sources/fdic/BulkReports/WALLKILL VALLEY FEDERAL SAVINGS AND LOAN ASSOCIATION_7072', '/Users/kris/data_sources/fdic/BulkReports/BANK OF BRIDGER NATIONAL ASSOCIATION_17950', '/Users/kris/data_sources/fdic/BulkReports/FARMBANK_3458', '/Users/kris/data_sources/fdic/BulkReports/FARMERS BANK THE_11837', '/Users/kris/data_sources/fdic/BulkReports/LAKEOSCEOLA STATE BANK_11145', '/Users/kris/data_sources/fdic/BulkReports/FIRST STATE BANK_10849', '/Users/kris/data_sources/fdic/BulkReports/PERRYTON NATIONAL BANK THE_8462', '/Users/kris/data_sources/fdic/BulkReports/ACNB BANK_5210', '/Users/kris/data_sources/fdic/BulkReports/FARMERS BANK  TRUST COMPANY_12946', '/Users/kris/data_sources/fdic/BulkReports/BAC COMMUNITY BANK_5461', '/Users/kris/data_sources/fdic/BulkReports/BANK OF HARTINGTON_7456']\n"
     ]
    }
   ],
   "source": [
    "folders = glob.glob(path + '*[!.]')\n",
    "print(f'{folders}')"
   ]
  },
  {
   "cell_type": "code",
   "execution_count": 2,
   "metadata": {},
   "outputs": [],
   "source": [
    "import pandas as pd\n",
    "import datetime\n",
    "\n",
    "df = pd.DataFrame({'Date': '20240506', 'As_of': datetime.datetime.now()}, index=[0])\n",
    "df0 = pd.DataFrame(columns=['Date', 'As_of'])\n",
    "df1 = pd.DataFrame({'Date': '20240506', 'As_of': datetime.datetime.now()}, index=[0])\n",
    "\n",
    "#df = pd.concat([df, df1], ignore_index=True)"
   ]
  },
  {
   "cell_type": "code",
   "execution_count": 4,
   "metadata": {},
   "outputs": [],
   "source": [
    "df0 = pd.concat([df0, df1], ignore_index=True)"
   ]
  },
  {
   "cell_type": "code",
   "execution_count": 10,
   "metadata": {},
   "outputs": [
    {
     "data": {
      "text/html": [
       "<div>\n",
       "<style scoped>\n",
       "    .dataframe tbody tr th:only-of-type {\n",
       "        vertical-align: middle;\n",
       "    }\n",
       "\n",
       "    .dataframe tbody tr th {\n",
       "        vertical-align: top;\n",
       "    }\n",
       "\n",
       "    .dataframe thead th {\n",
       "        text-align: right;\n",
       "    }\n",
       "</style>\n",
       "<table border=\"1\" class=\"dataframe\">\n",
       "  <thead>\n",
       "    <tr style=\"text-align: right;\">\n",
       "      <th></th>\n",
       "      <th>Date</th>\n",
       "      <th>As_of</th>\n",
       "    </tr>\n",
       "  </thead>\n",
       "  <tbody>\n",
       "    <tr>\n",
       "      <th>0</th>\n",
       "      <td>20240506</td>\n",
       "      <td>2024-06-13 11:04:13.840889</td>\n",
       "    </tr>\n",
       "    <tr>\n",
       "      <th>1</th>\n",
       "      <td>20240506</td>\n",
       "      <td>2024-06-13 11:04:13.843563</td>\n",
       "    </tr>\n",
       "  </tbody>\n",
       "</table>\n",
       "</div>"
      ],
      "text/plain": [
       "       Date                      As_of\n",
       "0  20240506 2024-06-13 11:04:13.840889\n",
       "1  20240506 2024-06-13 11:04:13.843563"
      ]
     },
     "execution_count": 10,
     "metadata": {},
     "output_type": "execute_result"
    }
   ],
   "source": [
    "df = pd.concat(df1, df1)"
   ]
  },
  {
   "cell_type": "code",
   "execution_count": 19,
   "metadata": {},
   "outputs": [
    {
     "data": {
      "text/plain": [
       "True"
      ]
     },
     "execution_count": 19,
     "metadata": {},
     "output_type": "execute_result"
    }
   ],
   "source": [
    "#type(df['Date'])\n",
    "#df['Date'].isin(['20240506'])\n",
    "\n",
    "'20240506' in df['Date'].values"
   ]
  },
  {
   "cell_type": "code",
   "execution_count": 20,
   "metadata": {},
   "outputs": [
    {
     "data": {
      "text/plain": [
       "2"
      ]
     },
     "execution_count": 20,
     "metadata": {},
     "output_type": "execute_result"
    }
   ],
   "source": [
    "df.shape[0]"
   ]
  },
  {
   "cell_type": "code",
   "execution_count": 21,
   "metadata": {},
   "outputs": [
    {
     "data": {
      "text/plain": [
       "dict_keys(['Date', 'As_of'])"
      ]
     },
     "execution_count": 21,
     "metadata": {},
     "output_type": "execute_result"
    }
   ],
   "source": [
    "skipped_dtypes = {'Date': str, 'As_of': datetime.datetime}\n",
    "skipped_dtypes.keys()"
   ]
  },
  {
   "cell_type": "code",
   "execution_count": 11,
   "metadata": {},
   "outputs": [
    {
     "name": "stdout",
     "output_type": "stream",
     "text": [
      "current: 14:51:36.940\n",
      "wait: 14:50:36.940\n",
      "\n"
     ]
    }
   ],
   "source": [
    "import time\n",
    "\n",
    "t = time.time()\n",
    "period = 60\n",
    "\n",
    "diff = t - period\n",
    "\n",
    "current_time = time.strftime('%H:%M:%S', time.localtime(t))\n",
    "wait_time = time.strftime('%H:%M:%S', time.localtime(diff))\n",
    "\n",
    "milliseconds_current = int((t - int(t)) * 1000)\n",
    "milliseconds_diff = int((diff - int(diff)) * 1000)\n",
    "\n",
    "print(f'current: {current_time}.{milliseconds_current}\\nwait: {wait_time}.{milliseconds_diff}\\n')\n"
   ]
  },
  {
   "cell_type": "code",
   "execution_count": 6,
   "metadata": {},
   "outputs": [
    {
     "name": "stdout",
     "output_type": "stream",
     "text": [
      "20240702 15:07:00\n"
     ]
    }
   ],
   "source": [
    "import time\n",
    "import datetime\n",
    "\n",
    "current = time.time()\n",
    "#print(datetime.datetime.fromtimestamp(current + 3600).strftime(\"%Y%m%d %H:%M:%S\"))\n",
    "print(f'{time.strftime(\"%Y%m%d %H:%M:%S\",time.gmtime(current + 3600))}')"
   ]
  },
  {
   "cell_type": "code",
   "execution_count": 9,
   "metadata": {},
   "outputs": [
    {
     "name": "stdout",
     "output_type": "stream",
     "text": [
      "100\n"
     ]
    }
   ],
   "source": [
    "#ij = 0\n",
    "for i in range(10):\n",
    "    for j in range(5):\n",
    "        ij +=1\n",
    "print(ij)"
   ]
  }
 ],
 "metadata": {
  "kernelspec": {
   "display_name": "Python 3",
   "language": "python",
   "name": "python3"
  },
  "language_info": {
   "codemirror_mode": {
    "name": "ipython",
    "version": 3
   },
   "file_extension": ".py",
   "mimetype": "text/x-python",
   "name": "python",
   "nbconvert_exporter": "python",
   "pygments_lexer": "ipython3",
   "version": "3.9.18"
  }
 },
 "nbformat": 4,
 "nbformat_minor": 2
}
