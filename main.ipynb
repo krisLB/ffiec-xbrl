{
 "cells": [
  {
   "cell_type": "code",
   "execution_count": null,
   "metadata": {},
   "outputs": [],
   "source": [
    "# GET POR Files Already Downloaded\n",
    "import glob\n",
    "import shutil\n",
    "from FDIC import constants as paths\n",
    "\n",
    "source = '/Users/kris/Downloads/FFIEC/'\n",
    "#destination = '/Users/kris/Library/CloudStorage/OneDrive-Personal/Documents/Visual Studio 2019/Repos/ffiec-xbrl/PubData/Src/RSSDs/'\n",
    "destination = paths.localPath + paths.folder_RSSDs\n",
    "\n",
    "for src in glob.glob(source + '*/* POR *'):\n",
    "    shutil.copy(src, destination)"
   ]
  },
  {
   "cell_type": "code",
   "execution_count": 1,
   "metadata": {},
   "outputs": [],
   "source": [
    "# Imports and Constants\n",
    "import pandas as pd\n",
    "import numpy as np\n",
    "import glob\n",
    "import sys\n",
    "\n",
    "from FDIC import ExEngine\n",
    "from FDIC import constants as paths\n",
    "from FDIC.ETL import ETL\n",
    "from FDIC.RateLimiter import RateLimiter \n",
    "from FDIC.viewer import Viewer\n",
    "from FDIC.Logger import Logger\n",
    "\n",
    "#dtypes = {'RSSD_ID':str,\n",
    "#          'FDIC_Certificate_Number':str,\n",
    "#          'OCC_Charter_Number':str,\n",
    "#          'OTS_Docket_Number':str,\n",
    "#          'Primary_ABA_Routing_Number':str,\n",
    "#          'Financial_Institution_Name': str,\n",
    "#          'Financial_Institution_Address': str,\n",
    "#          'Financial_Institution_City': str,\n",
    "#          'Financial_Institution_State': str,\n",
    "#          'Financial_Institution_Zip_Code': str,\n",
    "#          'Financial_Institution_Filing_Type': str,\n",
    "#          'Last Date/Time Submission Updated On': 'str'}\n",
    "\n",
    "dtypes = {'IDRSSD': np.dtype('str'),\n",
    "          'FDIC Certificate Number': np.dtype('str'),\n",
    "          'OCC Charter Number': np.dtype('str'),\n",
    "          'OTS Docket Number': np.dtype('str'),\n",
    "          'Primary ABA Routing Number': np.dtype('str'),\n",
    "          'Financial Institution Name': np.dtype('str'),\n",
    "          'Financial Institution Address': np.dtype('str'),\n",
    "          'Financial Institution City': np.dtype('str'),\n",
    "          'Financial Institution State': np.dtype('str'),\n",
    "          'Financial Institution Zip Code': np.dtype('str'),\n",
    "          'Financial Institution Filing Type': np.dtype('str'),\n",
    "          'Last Date/Time Submission Updated On': np.dtype('str')}\n",
    "\n",
    "filepath_in = 'PubData/Src/RSSDs/'\n",
    "filepath_out = 'PubData/'\n",
    "filename = 'FFIEC CDR Call Bulk POR 03312024.txt'"
   ]
  },
  {
   "cell_type": "code",
   "execution_count": null,
   "metadata": {},
   "outputs": [],
   "source": [
    "# Compare Bank_Dim and RSSD_Dict\n",
    "df_bank = pd.read_csv(filepath_out + 'Bank_Dim.csv', sep=',', index_col=False, quotechar='\"')\n",
    "df_rssd = pd.read_csv(filepath_out + 'RSSD_Dict.csv', sep=',', index_col=False, quotechar='\"')\n",
    "\n",
    "print(df_bank.shape, df_rssd.shape)\n"
   ]
  },
  {
   "cell_type": "code",
   "execution_count": null,
   "metadata": {},
   "outputs": [],
   "source": [
    "#Open File (Bank_dim from RSSD_Por)\n",
    "\n",
    "#with open(filename, 'r') as file:\n",
    "df = pd.read_csv(filepath_in + filename, sep='\\t', index_col=False, quotechar='\"', dtype = dtypes, parse_dates=['Last Date/Time Submission Updated On'])"
   ]
  },
  {
   "cell_type": "code",
   "execution_count": null,
   "metadata": {},
   "outputs": [],
   "source": [
    "#Clean RSSD_Por File\n",
    "df = df.apply(lambda x: x.str.strip() if x.dtype.name == 'object' else x, axis=0)"
   ]
  },
  {
   "cell_type": "code",
   "execution_count": null,
   "metadata": {},
   "outputs": [],
   "source": [
    "#Clean RSSD_Por Format - Align with and Create RSSD_Dict.csv\n",
    "df.rename(columns={'IDRSSD': 'RSSD_ID'}, inplace=True)\n",
    "df.columns = df.columns.str.replace(' ', '_')\n",
    "\n",
    "#Create RSSD_Dict file\n",
    "#df.iloc[:25].to_csv(filepath_out + 'RSSD_Dict.csv', sep=',', quotechar='\"', index= False,)\n",
    "df.to_csv(filepath_out + 'RSSD_Dict.csv', sep=',', quotechar='\"', index= False)"
   ]
  },
  {
   "cell_type": "code",
   "execution_count": null,
   "metadata": {},
   "outputs": [],
   "source": [
    "#Confirm data\n",
    "df[:5]\n",
    "\n",
    "#df.Financial_Institution_Address\n",
    "#df.iloc[0,6]"
   ]
  },
  {
   "cell_type": "code",
   "execution_count": 2,
   "metadata": {},
   "outputs": [],
   "source": [
    "\n",
    "#rate_limiter = RateLimiter(max_calls=2450, period_in_seconds=3660) #~2.4k every 60min\n",
    "logger = Logger(paths.folder_Log+paths.filename_Log)\n",
    "rate_limiter = RateLimiter(max_calls=2450, period_in_seconds=3660, logger=logger) #~2.4k every 60min\n",
    "#rate_limiter = RateLimiter(max_calls=10, period_in_seconds=30, logger=logger)\n",
    "etl = ETL(paths.WSDL_path, rate_limiter)\n",
    "\n",
    "#ExEngine.FillMaster('504713')\n",
    "#etl.GenBankDim()\n",
    "#etl.DownloadCallReports(['XBRL'])\n",
    "\n",
    "#etl.GenBankMaster()\n",
    "#etl.GenCallMaster()"
   ]
  },
  {
   "cell_type": "code",
   "execution_count": null,
   "metadata": {},
   "outputs": [],
   "source": [
    "try:\n",
    "    if etl:\n",
    "        pass\n",
    "except:\n",
    "        rate_limiter = RateLimiter(max_calls=2450, period_in_seconds=3660) #~2.4k every 60min\n",
    "        etl = ETL(paths.WSDL_path, rate_limiter)\n",
    "\n",
    "#tot = etl.ParseXBRL(call_report_path)\n",
    "etl.GenBankMaster()\n",
    "#etl.GenCallMaster()"
   ]
  },
  {
   "cell_type": "code",
   "execution_count": null,
   "metadata": {},
   "outputs": [],
   "source": [
    "try:\n",
    "    if etl:\n",
    "        pass\n",
    "except:\n",
    "        rate_limiter = RateLimiter(max_calls=2450, period_in_seconds=3660) #~2.4k every 60min\n",
    "        etl = ETL(paths.WSDL_path, rate_limiter)\n",
    "\n",
    "etl.GenCallMaster()\n",
    "#etl.build_MDRMdict(filters={'Reporting Form':['FFIEC 031', 'FFIEC 041', 'FFIEC 051']})"
   ]
  },
  {
   "cell_type": "code",
   "execution_count": null,
   "metadata": {},
   "outputs": [],
   "source": [
    "viewer = Viewer()"
   ]
  },
  {
   "cell_type": "code",
   "execution_count": null,
   "metadata": {},
   "outputs": [],
   "source": [
    "#Query for 1 institution, 1 item, and get aggregate results\n",
    "viewer.query(MDRMitem='RCON2170', RSSDid=267652, calc='aggregate', chart=True)"
   ]
  },
  {
   "cell_type": "code",
   "execution_count": null,
   "metadata": {},
   "outputs": [],
   "source": [
    "# Run \n",
    "viewer.query(MDRMitem='RCON2170', calc='twr', chart=True)"
   ]
  },
  {
   "cell_type": "code",
   "execution_count": null,
   "metadata": {},
   "outputs": [],
   "source": [
    "# Check Content Status\n",
    "viewer.contentStats(item='mdrm_item', by='ReportPeriodEndDate')\n",
    "#viewer.contentStats(item='mdrm_item')"
   ]
  },
  {
   "cell_type": "markdown",
   "metadata": {},
   "source": [
    "--Build MDRM_Dict--"
   ]
  },
  {
   "cell_type": "code",
   "execution_count": 3,
   "metadata": {},
   "outputs": [],
   "source": [
    "filters = {'Mnemonic':['CALL',\n",
    "                            'CENB','IADX','IBFQ','RCCD','RCCF','RCEG',\n",
    "                       'RCFD',\n",
    "                            'RCFA', 'RCFW',\n",
    "                       'RCFN',\n",
    "                       'RCON',\n",
    "                          'RCF0','RCF1','RCF2','RCF3','RCF4','RCF5','RCF6','RCF7','RCF8','RCF9','RCOA','RCOW',\n",
    "                       'RCOS','RIAD','RIAS','RIDM','RIFN','SCHJ',\n",
    "                  ]}\n",
    "folderpath_bank = '/Users/kris/data_sources/fdic/BulkReports/1ST BANK OF SEA ISLE CITY_148470/'\n",
    "\n",
    "mdf = etl.build_MDRMdict(export_path=None, filters=filters)\n",
    "#etl.build_MDRM_datatype(filepath_MDRM =paths.folder_Orig + paths.filename_MDRM, folderpath_callReport =folderpath_bank)"
   ]
  },
  {
   "cell_type": "code",
   "execution_count": 4,
   "metadata": {},
   "outputs": [
    {
     "data": {
      "text/html": [
       "<div>\n",
       "<style scoped>\n",
       "    .dataframe tbody tr th:only-of-type {\n",
       "        vertical-align: middle;\n",
       "    }\n",
       "\n",
       "    .dataframe tbody tr th {\n",
       "        vertical-align: top;\n",
       "    }\n",
       "\n",
       "    .dataframe thead th {\n",
       "        text-align: right;\n",
       "    }\n",
       "</style>\n",
       "<table border=\"1\" class=\"dataframe\">\n",
       "  <thead>\n",
       "    <tr style=\"text-align: right;\">\n",
       "      <th></th>\n",
       "      <th>MDRM_Item</th>\n",
       "      <th>Start_Date</th>\n",
       "      <th>End_Date</th>\n",
       "      <th>Item_Name</th>\n",
       "      <th>Confidential</th>\n",
       "      <th>Datatype</th>\n",
       "      <th>Unit</th>\n",
       "      <th>Decimals</th>\n",
       "      <th>ReportPeriodEndDate</th>\n",
       "    </tr>\n",
       "  </thead>\n",
       "  <tbody>\n",
       "    <tr>\n",
       "      <th>0</th>\n",
       "      <td>RCOAP857</td>\n",
       "      <td>2014-03-31</td>\n",
       "      <td>9999-12-31</td>\n",
       "      <td>DEDUCTIONS APPLIED TO COMMON EQUITY TIER 1 CAP...</td>\n",
       "      <td>N</td>\n",
       "      <td>int</td>\n",
       "      <td>USD</td>\n",
       "      <td>0</td>\n",
       "      <td>2007-12-31</td>\n",
       "    </tr>\n",
       "    <tr>\n",
       "      <th>1</th>\n",
       "      <td>RCOAP857</td>\n",
       "      <td>2017-03-31</td>\n",
       "      <td>9999-12-31</td>\n",
       "      <td>DEDUCTIONS APPLIED TO COMMON EQUITY TIER 1 CAP...</td>\n",
       "      <td>N</td>\n",
       "      <td>int</td>\n",
       "      <td>USD</td>\n",
       "      <td>0</td>\n",
       "      <td>2007-12-31</td>\n",
       "    </tr>\n",
       "    <tr>\n",
       "      <th>2</th>\n",
       "      <td>RCONG318</td>\n",
       "      <td>2009-06-30</td>\n",
       "      <td>9999-12-31</td>\n",
       "      <td>MORTGAGE-BACKED SECURITIES (MBS): OTHER RESIDE...</td>\n",
       "      <td>N</td>\n",
       "      <td>int</td>\n",
       "      <td>USD</td>\n",
       "      <td>0</td>\n",
       "      <td>2007-12-31</td>\n",
       "    </tr>\n",
       "    <tr>\n",
       "      <th>3</th>\n",
       "      <td>RCONG318</td>\n",
       "      <td>2017-03-31</td>\n",
       "      <td>9999-12-31</td>\n",
       "      <td>MORTGAGE-BACKED SECURITIES (MBS): OTHER RESIDE...</td>\n",
       "      <td>N</td>\n",
       "      <td>int</td>\n",
       "      <td>USD</td>\n",
       "      <td>0</td>\n",
       "      <td>2007-12-31</td>\n",
       "    </tr>\n",
       "    <tr>\n",
       "      <th>4</th>\n",
       "      <td>RCONG319</td>\n",
       "      <td>2009-06-30</td>\n",
       "      <td>9999-12-31</td>\n",
       "      <td>MORTGAGE-BACKED SECURITIES (MBS): OTHER RESIDE...</td>\n",
       "      <td>N</td>\n",
       "      <td>int</td>\n",
       "      <td>USD</td>\n",
       "      <td>0</td>\n",
       "      <td>2007-12-31</td>\n",
       "    </tr>\n",
       "    <tr>\n",
       "      <th>...</th>\n",
       "      <td>...</td>\n",
       "      <td>...</td>\n",
       "      <td>...</td>\n",
       "      <td>...</td>\n",
       "      <td>...</td>\n",
       "      <td>...</td>\n",
       "      <td>...</td>\n",
       "      <td>...</td>\n",
       "      <td>...</td>\n",
       "    </tr>\n",
       "    <tr>\n",
       "      <th>6120</th>\n",
       "      <td>TE10N528</td>\n",
       "      <td>NaN</td>\n",
       "      <td>NaN</td>\n",
       "      <td>NaN</td>\n",
       "      <td>NaN</td>\n",
       "      <td>str</td>\n",
       "      <td>None</td>\n",
       "      <td>None</td>\n",
       "      <td>2019-12-31</td>\n",
       "    </tr>\n",
       "    <tr>\n",
       "      <th>6121</th>\n",
       "      <td>TE08N528</td>\n",
       "      <td>NaN</td>\n",
       "      <td>NaN</td>\n",
       "      <td>NaN</td>\n",
       "      <td>NaN</td>\n",
       "      <td>str</td>\n",
       "      <td>None</td>\n",
       "      <td>None</td>\n",
       "      <td>2019-12-31</td>\n",
       "    </tr>\n",
       "    <tr>\n",
       "      <th>6122</th>\n",
       "      <td>TE01N529</td>\n",
       "      <td>NaN</td>\n",
       "      <td>NaN</td>\n",
       "      <td>NaN</td>\n",
       "      <td>NaN</td>\n",
       "      <td>str</td>\n",
       "      <td>None</td>\n",
       "      <td>None</td>\n",
       "      <td>2019-12-31</td>\n",
       "    </tr>\n",
       "    <tr>\n",
       "      <th>6123</th>\n",
       "      <td>TE06N529</td>\n",
       "      <td>NaN</td>\n",
       "      <td>NaN</td>\n",
       "      <td>NaN</td>\n",
       "      <td>NaN</td>\n",
       "      <td>str</td>\n",
       "      <td>None</td>\n",
       "      <td>None</td>\n",
       "      <td>2019-12-31</td>\n",
       "    </tr>\n",
       "    <tr>\n",
       "      <th>6124</th>\n",
       "      <td>TE03N529</td>\n",
       "      <td>NaN</td>\n",
       "      <td>NaN</td>\n",
       "      <td>NaN</td>\n",
       "      <td>NaN</td>\n",
       "      <td>str</td>\n",
       "      <td>None</td>\n",
       "      <td>None</td>\n",
       "      <td>2019-12-31</td>\n",
       "    </tr>\n",
       "  </tbody>\n",
       "</table>\n",
       "<p>6125 rows × 9 columns</p>\n",
       "</div>"
      ],
      "text/plain": [
       "     MDRM_Item  Start_Date    End_Date  \\\n",
       "0     RCOAP857  2014-03-31  9999-12-31   \n",
       "1     RCOAP857  2017-03-31  9999-12-31   \n",
       "2     RCONG318  2009-06-30  9999-12-31   \n",
       "3     RCONG318  2017-03-31  9999-12-31   \n",
       "4     RCONG319  2009-06-30  9999-12-31   \n",
       "...        ...         ...         ...   \n",
       "6120  TE10N528         NaN         NaN   \n",
       "6121  TE08N528         NaN         NaN   \n",
       "6122  TE01N529         NaN         NaN   \n",
       "6123  TE06N529         NaN         NaN   \n",
       "6124  TE03N529         NaN         NaN   \n",
       "\n",
       "                                              Item_Name Confidential Datatype  \\\n",
       "0     DEDUCTIONS APPLIED TO COMMON EQUITY TIER 1 CAP...            N      int   \n",
       "1     DEDUCTIONS APPLIED TO COMMON EQUITY TIER 1 CAP...            N      int   \n",
       "2     MORTGAGE-BACKED SECURITIES (MBS): OTHER RESIDE...            N      int   \n",
       "3     MORTGAGE-BACKED SECURITIES (MBS): OTHER RESIDE...            N      int   \n",
       "4     MORTGAGE-BACKED SECURITIES (MBS): OTHER RESIDE...            N      int   \n",
       "...                                                 ...          ...      ...   \n",
       "6120                                                NaN          NaN      str   \n",
       "6121                                                NaN          NaN      str   \n",
       "6122                                                NaN          NaN      str   \n",
       "6123                                                NaN          NaN      str   \n",
       "6124                                                NaN          NaN      str   \n",
       "\n",
       "      Unit Decimals ReportPeriodEndDate  \n",
       "0      USD        0          2007-12-31  \n",
       "1      USD        0          2007-12-31  \n",
       "2      USD        0          2007-12-31  \n",
       "3      USD        0          2007-12-31  \n",
       "4      USD        0          2007-12-31  \n",
       "...    ...      ...                 ...  \n",
       "6120  None     None          2019-12-31  \n",
       "6121  None     None          2019-12-31  \n",
       "6122  None     None          2019-12-31  \n",
       "6123  None     None          2019-12-31  \n",
       "6124  None     None          2019-12-31  \n",
       "\n",
       "[6125 rows x 9 columns]"
      ]
     },
     "execution_count": 4,
     "metadata": {},
     "output_type": "execute_result"
    }
   ],
   "source": [
    "mdf"
   ]
  },
  {
   "cell_type": "markdown",
   "metadata": {},
   "source": [
    "--Start of Dataframe Sandbox--"
   ]
  },
  {
   "cell_type": "code",
   "execution_count": null,
   "metadata": {},
   "outputs": [],
   "source": [
    "## Create DF from Mastercall\n",
    "path = paths.localPath + paths.filename_MasterCall\n",
    "df = etl.loadCSV(path)"
   ]
  },
  {
   "cell_type": "code",
   "execution_count": null,
   "metadata": {},
   "outputs": [],
   "source": [
    "## Create DF from ALL Bankcalls\n",
    "path = '/Users/kris/data_sources/fdic/BulkReports/'\n",
    "df = etl.createDF_from_CSV(path_root =path)\n",
    "df"
   ]
  },
  {
   "cell_type": "code",
   "execution_count": null,
   "metadata": {},
   "outputs": [],
   "source": [
    "df[:25]"
   ]
  },
  {
   "cell_type": "code",
   "execution_count": null,
   "metadata": {},
   "outputs": [],
   "source": [
    "#Number of RSSD's by Period, by RSSD_ID, by MDRM_Item\n",
    "g_df = df[df['RSSD_ID']==28013].groupby(['MDRM_Item', 'RSSD_ID', 'ReportPeriodEndDate'])['MDRM_Item'].count()\n",
    "g_df"
   ]
  },
  {
   "cell_type": "code",
   "execution_count": null,
   "metadata": {},
   "outputs": [],
   "source": [
    "#Field count by date (RSSD report count)\n",
    "pvt = df[['MDRM_Item', 'ReportPeriodEndDate']].pivot_table(\n",
    "    index=['MDRM_Item'],\n",
    "    columns=['ReportPeriodEndDate'],\n",
    "    values=['MDRM_Item'],\n",
    "    aggfunc={'MDRM_Item': ['count']}\n",
    ")\n",
    "pvt.fillna(0, inplace=True)\n",
    "pvt\n",
    "\n",
    "#Filter out either rows or columns with only no reporting (only zeros)\n",
    "#filtered_pvt = pvt.loc[(pvt > 0).any(axis=1),:]\n",
    "filtered_pvt = pvt.loc[:, (pvt > 0).any(axis=0)]\n",
    "filtered_pvt"
   ]
  },
  {
   "cell_type": "code",
   "execution_count": null,
   "metadata": {},
   "outputs": [],
   "source": [
    "#Number of filers (RSSD's) by date\n",
    "pvt = df[['ReportPeriodEndDate', 'RSSD_ID']].drop_duplicates().reset_index().pivot_table(\n",
    "    index=['ReportPeriodEndDate'],\n",
    "    values=['RSSD_ID'],\n",
    "    aggfunc={'RSSD_ID': ['count']}\n",
    ").sort_values(by='ReportPeriodEndDate', ascending=False)\n",
    "\n",
    "pvt = pvt.set_axis([col for col in pvt.keys()], axis=1)\n",
    "#pvt.reset_index(inplace=True)\n",
    "\n",
    "pvt.fillna(0, inplace=True)\n",
    "pvt"
   ]
  },
  {
   "cell_type": "code",
   "execution_count": null,
   "metadata": {},
   "outputs": [],
   "source": [
    "filepath = 'PubData/MDRM_Dict.csv'\n",
    "mdrm = etl.loadCSV(path = filepath)\n",
    "mdrm"
   ]
  },
  {
   "cell_type": "code",
   "execution_count": null,
   "metadata": {},
   "outputs": [],
   "source": [
    "mdrm[mdrm['Item_Name'].str.contains('TOTAL ASSETS')]\n",
    "mdrm[mdrm['Item_Name'] == 'TOTAL ASSETS ']\n",
    "#mdrm.iloc[1196]"
   ]
  },
  {
   "cell_type": "code",
   "execution_count": null,
   "metadata": {},
   "outputs": [],
   "source": [
    "df[df['MDRM_Item']=='RCON2170']"
   ]
  },
  {
   "cell_type": "code",
   "execution_count": null,
   "metadata": {},
   "outputs": [],
   "source": [
    "##Find rows that don't have INT values in Value column\n",
    "df.dtypes\n",
    "\n",
    "invalid_rows = df[df['Value'].apply(lambda x: isinstance(x, str) and not x.replace('.', '', 1).isdigit())]\n",
    "invalid_rows"
   ]
  },
  {
   "cell_type": "code",
   "execution_count": null,
   "metadata": {},
   "outputs": [],
   "source": [
    "##Format dtypes of dataframe\n",
    "df = df.astype({\n",
    "    'ReportPeriodEndDate': 'datetime64[ns]',\n",
    "    'Item_Name': 'str',\n",
    "    'MDRM_Item': 'str',\n",
    "    'Confidential': 'bool'\n",
    "    #'Value': 'float'\n",
    "    })"
   ]
  },
  {
   "cell_type": "code",
   "execution_count": null,
   "metadata": {},
   "outputs": [],
   "source": [
    "## Print analytics from dataframe\n",
    "\n",
    "#Filter df by Item and Confidential status\n",
    "#filtered_df = df[(df['MDRM_Item']=='RCON2170') & (df['Confidential']=='No')].astype({'Value': int})\n",
    "filtered_df = df[(df['MDRM_Item']=='RCON2170')].astype({'Value': int})\n",
    "\n",
    "totals = filtered_df.groupby(by='ReportPeriodEndDate')['Value'].sum().astype(int)\n",
    "totals\n",
    "\n",
    "counts = filtered_df.groupby(by='ReportPeriodEndDate')['Value'].count().astype(int)\n",
    "counts\n",
    "\n",
    "pctChgs = totals.pct_change()\n",
    "pctChgs\n",
    "\n",
    "res = pd.DataFrame({'Values':totals, 'pctChgs':pctChgs, 'Counts':counts})\n",
    "res.index = res.index.strftime('%Y-%m-%d')\n",
    "res.style.format({\n",
    "    'Values': '{:,}',\n",
    "    'pctChgs': lambda x: '{:.2%}'.format(x) if pd.notna(x) else x,\n",
    "    'Counts': '{:,}'\n",
    "})\n"
   ]
  },
  {
   "cell_type": "code",
   "execution_count": null,
   "metadata": {},
   "outputs": [],
   "source": [
    "from matplotlib import pyplot as plt\n",
    "\n",
    "# Plotting\n",
    "fig, ax1 = plt.subplots()\n",
    "\n",
    "# Plot summed values\n",
    "color = 'tab:blue'\n",
    "ax1.set_xlabel('ReportPeriodEndDate')\n",
    "ax1.set_ylabel('Summed Values', color=color)\n",
    "ax1.plot(res.index, res['Values'], color=color)\n",
    "ax1.tick_params(axis='y', labelcolor=color)\n",
    "\n",
    "# Create a second y-axis for percentage change\n",
    "ax2 = ax1.twinx()\n",
    "color = 'tab:red'\n",
    "ax2.set_ylabel('Percentage Change', color=color)\n",
    "ax2.plot(res.index, res['pctChgs'], color=color)\n",
    "ax2.tick_params(axis='y', labelcolor=color)\n",
    "\n",
    "# Format the x-axis dates\n",
    "#fig.autofmt_xdate()\n",
    "\n",
    "# Set x-axis major ticks to show at regular intervals\n",
    "interval = 4\n",
    "ax1.set_xticks(res.index[::interval])\n",
    "\n",
    "# Rotate the x-axis labels for better readability\n",
    "plt.setp(ax1.get_xticklabels(), rotation=45, ha=\"right\")\n",
    "\n",
    "# Add a title\n",
    "plt.title('Total Assets and YoY Chg')\n",
    "\n",
    "# Show the plot\n",
    "plt.show()\n",
    "\n"
   ]
  },
  {
   "cell_type": "code",
   "execution_count": null,
   "metadata": {},
   "outputs": [],
   "source": [
    "#filtered_df = df[(df['ReportPeriodEndDate']=='2001-03-31') & (df['MDRM_Item']=='RCON2170')]\n",
    "filtered_df = df[(df['RSSD_ID']=='140362') & (df['MDRM_Item']=='RCON2170') & (df['Confidential']==False)]\n",
    "filtered_df"
   ]
  }
 ],
 "metadata": {
  "kernelspec": {
   "display_name": "Python 3",
   "language": "python",
   "name": "python3"
  },
  "language_info": {
   "codemirror_mode": {
    "name": "ipython",
    "version": 3
   },
   "file_extension": ".py",
   "mimetype": "text/x-python",
   "name": "python",
   "nbconvert_exporter": "python",
   "pygments_lexer": "ipython3",
   "version": "3.9.18"
  }
 },
 "nbformat": 4,
 "nbformat_minor": 2
}
