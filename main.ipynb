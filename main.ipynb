{
 "cells": [
  {
   "cell_type": "code",
   "execution_count": 1,
   "metadata": {},
   "outputs": [],
   "source": [
    "## Imports and Constants\n",
    "import pandas as pd\n",
    "import numpy as np\n",
    "import glob\n",
    "import sys\n",
    "\n",
    "#from FDIC import ExEngine\n",
    "#from FDIC import constants as paths\n",
    "#from FDIC.ETL import ETL\n",
    "#from FDIC.RateLimiter import RateLimiter \n",
    "#from FDIC.Viewer import Viewer\n",
    "#from FDIC.Logger import Logger\n",
    "#from FDIC.Databaser import DatabaseHandler\n",
    "#from FDIC.ETLtools import ETLtools\n",
    "\n",
    "from FDIC import ETL, RateLimiter, Viewer, Logger, ETLtools\n",
    "from FDIC import constants as paths\n",
    "from FDIC.DatabaseHandler import DatabaseHandler\n",
    "\n",
    "\n",
    "#dtypes = {'RSSD_ID':str,\n",
    "#          'FDIC_Certificate_Number':str,\n",
    "#          'OCC_Charter_Number':str,\n",
    "#          'OTS_Docket_Number':str,\n",
    "#          'Primary_ABA_Routing_Number':str,\n",
    "#          'Financial_Institution_Name': str,\n",
    "#          'Financial_Institution_Address': str,\n",
    "#          'Financial_Institution_City': str,\n",
    "#          'Financial_Institution_State': str,\n",
    "#          'Financial_Institution_Zip_Code': str,\n",
    "#          'Financial_Institution_Filing_Type': str,\n",
    "#          'Last Date/Time Submission Updated On': 'str'}\n",
    "\n",
    "dtypes = {'IDRSSD': np.dtype('str'),\n",
    "          'FDIC Certificate Number': np.dtype('str'),\n",
    "          'OCC Charter Number': np.dtype('str'),\n",
    "          'OTS Docket Number': np.dtype('str'),\n",
    "          'Primary ABA Routing Number': np.dtype('str'),\n",
    "          'Financial Institution Name': np.dtype('str'),\n",
    "          'Financial Institution Address': np.dtype('str'),\n",
    "          'Financial Institution City': np.dtype('str'),\n",
    "          'Financial Institution State': np.dtype('str'),\n",
    "          'Financial Institution Zip Code': np.dtype('str'),\n",
    "          'Financial Institution Filing Type': np.dtype('str'),\n",
    "          'Last Date/Time Submission Updated On': np.dtype('str')}\n",
    "\n",
    "filepath_in = 'PubData/Src/RSSDs/'\n",
    "filepath_out = 'PubData/'\n",
    "filename = 'FFIEC CDR Call Bulk POR 03312024.txt'"
   ]
  },
  {
   "cell_type": "code",
   "execution_count": null,
   "metadata": {},
   "outputs": [],
   "source": [
    "## GET POR Files Already Downloaded\n",
    "import glob\n",
    "import shutil\n",
    "from FDIC import constants as paths\n",
    "\n",
    "source = '/Users/kris/Downloads/FFIEC/'\n",
    "#destination = '/Users/kris/Library/CloudStorage/OneDrive-Personal/Documents/Visual Studio 2019/Repos/ffiec-xbrl/PubData/Src/RSSDs/'\n",
    "destination = paths.localPath + paths.folder_RSSDs\n",
    "\n",
    "for src in glob.glob(source + '*/* POR *'):\n",
    "    shutil.copy(src, destination)"
   ]
  },
  {
   "cell_type": "code",
   "execution_count": null,
   "metadata": {},
   "outputs": [],
   "source": [
    "## Compare Bank_Dim and RSSD_Dict\n",
    "df_bank = pd.read_csv(filepath_out + 'Bank_Dim.csv', sep=',', index_col=False, quotechar='\"')\n",
    "df_rssd = pd.read_csv(filepath_out + 'RSSD_Dict.csv', sep=',', index_col=False, quotechar='\"')\n",
    "\n",
    "print(df_bank.shape, df_rssd.shape)"
   ]
  },
  {
   "cell_type": "code",
   "execution_count": null,
   "metadata": {},
   "outputs": [],
   "source": [
    "## Open File (Bank_dim from RSSD_Por)\n",
    "\n",
    "#with open(filename, 'r') as file:\n",
    "df = pd.read_csv(filepath_in + filename, sep='\\t', index_col=False, quotechar='\"', dtype = dtypes, parse_dates=['Last Date/Time Submission Updated On'])"
   ]
  },
  {
   "cell_type": "code",
   "execution_count": null,
   "metadata": {},
   "outputs": [],
   "source": [
    "#Clean RSSD_Por File\n",
    "df = df.apply(lambda x: x.str.strip() if x.dtype.name == 'object' else x, axis=0)"
   ]
  },
  {
   "cell_type": "code",
   "execution_count": null,
   "metadata": {},
   "outputs": [],
   "source": [
    "#Clean RSSD_Por Format - Align with and Create RSSD_Dict.csv\n",
    "df.rename(columns={'IDRSSD': 'RSSD_ID'}, inplace=True)\n",
    "df.columns = df.columns.str.replace(' ', '_')\n",
    "\n",
    "#Create RSSD_Dict file\n",
    "#df.iloc[:25].to_csv(filepath_out + 'RSSD_Dict.csv', sep=',', quotechar='\"', index= False,)\n",
    "df.to_csv(filepath_out + 'RSSD_Dict.csv', sep=',', quotechar='\"', index= False)"
   ]
  },
  {
   "cell_type": "code",
   "execution_count": null,
   "metadata": {},
   "outputs": [],
   "source": [
    "#Confirm data\n",
    "df[:5]\n",
    "\n",
    "#df.Financial_Institution_Address\n",
    "#df.iloc[0,6]"
   ]
  },
  {
   "cell_type": "code",
   "execution_count": null,
   "metadata": {},
   "outputs": [],
   "source": [
    "\n",
    "#rate_limiter = RateLimiter(max_calls=2450, period_in_seconds=3660) #~2.4k every 60min\n",
    "logger = Logger.Logger(paths.folder_Log+paths.filename_Log)\n",
    "rate_limiter = RateLimiter.RateLimiter(max_calls=2450, period_in_seconds=3660, logger=logger) #~2.4k every 60min\n",
    "#rate_limiter = RateLimiter(max_calls=10, period_in_seconds=30, logger=logger)\n",
    "etl = ETL.ETL(paths.WSDL_path, rate_limiter)\n",
    "\n",
    "#ExEngine.FillMaster('504713')\n",
    "#etl.GenBankDim()\n",
    "etl.DownloadCallReports(['XBRL'])\n",
    "\n",
    "#etl.GenBankMaster()\n",
    "#etl.GenCallMaster()"
   ]
  },
  {
   "cell_type": "code",
   "execution_count": null,
   "metadata": {},
   "outputs": [],
   "source": [
    "try:\n",
    "    if etl:\n",
    "        pass\n",
    "except:\n",
    "        rate_limiter = RateLimiter(max_calls=2450, period_in_seconds=3660) #~2.4k every 60min\n",
    "        etl = ETL(paths.WSDL_path, rate_limiter)\n",
    "\n",
    "#tot = etl.ParseXBRL(call_report_path)\n",
    "etl.GenBankMaster()\n",
    "#etl.GenCallMaster()"
   ]
  },
  {
   "cell_type": "code",
   "execution_count": null,
   "metadata": {},
   "outputs": [],
   "source": [
    "try:\n",
    "    if etl:\n",
    "        pass\n",
    "except:\n",
    "        rate_limiter = RateLimiter(max_calls=2450, period_in_seconds=3660) #~2.4k every 60min\n",
    "        etl = ETL(paths.WSDL_path, rate_limiter)\n",
    "\n",
    "etl.GenCallMaster()\n",
    "#etl.build_MDRMdict(filters={'Reporting Form':['FFIEC 031', 'FFIEC 041', 'FFIEC 051']})"
   ]
  },
  {
   "cell_type": "markdown",
   "metadata": {},
   "source": [
    "---VIEWER---"
   ]
  },
  {
   "cell_type": "code",
   "execution_count": null,
   "metadata": {},
   "outputs": [],
   "source": [
    "viewer = Viewer()"
   ]
  },
  {
   "cell_type": "code",
   "execution_count": null,
   "metadata": {},
   "outputs": [],
   "source": [
    "#Query for 1 institution, 1 item, and get aggregate results\n",
    "viewer.query(MDRMitem='RCON2170', RSSDid=267652, calc='aggregate', chart=True)"
   ]
  },
  {
   "cell_type": "code",
   "execution_count": null,
   "metadata": {},
   "outputs": [],
   "source": [
    "# Run \n",
    "viewer.query(MDRMitem='RCON2170', calc='twr', chart=True)"
   ]
  },
  {
   "cell_type": "code",
   "execution_count": null,
   "metadata": {},
   "outputs": [],
   "source": [
    "# Check Content Status\n",
    "viewer.contentStats(item='mdrm_item', by='ReportPeriodEndDate')\n",
    "#viewer.contentStats(item='mdrm_item')"
   ]
  },
  {
   "cell_type": "markdown",
   "metadata": {},
   "source": [
    "---DATABASER---"
   ]
  },
  {
   "cell_type": "code",
   "execution_count": 1,
   "metadata": {},
   "outputs": [],
   "source": [
    "import pandas as pd\n",
    "import numpy as np\n",
    "import glob\n",
    "import sys\n",
    "\n",
    "from FDIC import ETL, RateLimiter, Viewer, Logger, ETLtools, DatabaseHandler\n",
    "from FDIC import constants as paths"
   ]
  },
  {
   "cell_type": "code",
   "execution_count": 2,
   "metadata": {},
   "outputs": [],
   "source": [
    "db_filepath = '/Users/kris/data_sources/fdic/db/fdic.db'\n",
    "db_handler = DatabaseHandler.DatabaseHandler(db_filepath)\n",
    "rate_limiter = RateLimiter.RateLimiter(max_calls=2450, period_in_seconds=3660) #~2.4k every 60min\n",
    "etl = ETL.ETL(paths.WSDL_path, rate_limiter, db_handler=db_handler)"
   ]
  },
  {
   "cell_type": "code",
   "execution_count": 3,
   "metadata": {},
   "outputs": [
    {
     "name": "stdout",
     "output_type": "stream",
     "text": [
      "Database Call Reports from Bank_Master:\n"
     ]
    },
    {
     "ename": "InvalidRequestError",
     "evalue": "When initializing mapper Mapper[Field(fields)], expression 'ReportForm' failed to locate a name ('ReportForm'). If this is a class name, consider adding this relationship() to the <class 'FDIC.DatabaseHandler.Field'> class after both dependent classes have been defined.",
     "output_type": "error",
     "traceback": [
      "\u001b[0;31m---------------------------------------------------------------------------\u001b[0m",
      "\u001b[0;31mKeyError\u001b[0m                                  Traceback (most recent call last)",
      "File \u001b[0;32m/opt/homebrew/lib/python3.9/site-packages/sqlalchemy/orm/clsregistry.py:516\u001b[0m, in \u001b[0;36m_class_resolver._resolve_name\u001b[0;34m(self)\u001b[0m\n\u001b[1;32m    515\u001b[0m \u001b[38;5;28;01mif\u001b[39;00m rval \u001b[38;5;129;01mis\u001b[39;00m \u001b[38;5;28;01mNone\u001b[39;00m:\n\u001b[0;32m--> 516\u001b[0m     rval \u001b[38;5;241m=\u001b[39m \u001b[43md\u001b[49m\u001b[43m[\u001b[49m\u001b[43mtoken\u001b[49m\u001b[43m]\u001b[49m\n\u001b[1;32m    517\u001b[0m \u001b[38;5;28;01melse\u001b[39;00m:\n",
      "File \u001b[0;32m/opt/homebrew/lib/python3.9/site-packages/sqlalchemy/util/_collections.py:345\u001b[0m, in \u001b[0;36mPopulateDict.__missing__\u001b[0;34m(self, key)\u001b[0m\n\u001b[1;32m    344\u001b[0m \u001b[38;5;28;01mdef\u001b[39;00m \u001b[38;5;21m__missing__\u001b[39m(\u001b[38;5;28mself\u001b[39m, key: Any) \u001b[38;5;241m-\u001b[39m\u001b[38;5;241m>\u001b[39m Any:\n\u001b[0;32m--> 345\u001b[0m     \u001b[38;5;28mself\u001b[39m[key] \u001b[38;5;241m=\u001b[39m val \u001b[38;5;241m=\u001b[39m \u001b[38;5;28;43mself\u001b[39;49m\u001b[38;5;241;43m.\u001b[39;49m\u001b[43mcreator\u001b[49m\u001b[43m(\u001b[49m\u001b[43mkey\u001b[49m\u001b[43m)\u001b[49m\n\u001b[1;32m    346\u001b[0m     \u001b[38;5;28;01mreturn\u001b[39;00m val\n",
      "File \u001b[0;32m/opt/homebrew/lib/python3.9/site-packages/sqlalchemy/orm/clsregistry.py:484\u001b[0m, in \u001b[0;36m_class_resolver._access_cls\u001b[0;34m(self, key)\u001b[0m\n\u001b[1;32m    482\u001b[0m             \u001b[38;5;28;01mreturn\u001b[39;00m value\n\u001b[0;32m--> 484\u001b[0m \u001b[38;5;28;01mreturn\u001b[39;00m \u001b[38;5;28;43mself\u001b[39;49m\u001b[38;5;241;43m.\u001b[39;49m\u001b[43mfallback\u001b[49m\u001b[43m[\u001b[49m\u001b[43mkey\u001b[49m\u001b[43m]\u001b[49m\n",
      "\u001b[0;31mKeyError\u001b[0m: 'ReportForm'",
      "\nThe above exception was the direct cause of the following exception:\n",
      "\u001b[0;31mInvalidRequestError\u001b[0m                       Traceback (most recent call last)",
      "Cell \u001b[0;32mIn[3], line 1\u001b[0m\n\u001b[0;32m----> 1\u001b[0m \u001b[43metl\u001b[49m\u001b[38;5;241;43m.\u001b[39;49m\u001b[43mGenBankMaster_to_db\u001b[49m\u001b[43m(\u001b[49m\u001b[43m)\u001b[49m\n",
      "File \u001b[0;32m~/Library/CloudStorage/OneDrive-Personal/Documents/Visual Studio 2019/Repos/ffiec-xbrl/FDIC/ETL.py:694\u001b[0m, in \u001b[0;36mETL.GenBankMaster_to_db\u001b[0;34m(self, path)\u001b[0m\n\u001b[1;32m    692\u001b[0m \u001b[38;5;28;01mif\u001b[39;00m (date_master \u001b[38;5;129;01mand\u001b[39;00m date_xbrl) \u001b[38;5;129;01mand\u001b[39;00m (date_master \u001b[38;5;241m>\u001b[39m date_xbrl):\n\u001b[1;32m    693\u001b[0m     b_df \u001b[38;5;241m=\u001b[39m pd\u001b[38;5;241m.\u001b[39mread_csv(filepathname, sep\u001b[38;5;241m=\u001b[39m\u001b[38;5;124m'\u001b[39m\u001b[38;5;124m,\u001b[39m\u001b[38;5;124m'\u001b[39m, quotechar\u001b[38;5;241m=\u001b[39m\u001b[38;5;124m'\u001b[39m\u001b[38;5;124m\"\u001b[39m\u001b[38;5;124m'\u001b[39m)                \n\u001b[0;32m--> 694\u001b[0m     \u001b[38;5;28;43mself\u001b[39;49m\u001b[38;5;241;43m.\u001b[39;49m\u001b[43mdb_handler\u001b[49m\u001b[38;5;241;43m.\u001b[39;49m\u001b[43mprocess_dataframe\u001b[49m\u001b[43m(\u001b[49m\u001b[43mb_df\u001b[49m\u001b[43m)\u001b[49m\n\u001b[1;32m    695\u001b[0m \u001b[38;5;28;01melse\u001b[39;00m:\n\u001b[1;32m    696\u001b[0m     \u001b[38;5;28;01mcontinue\u001b[39;00m\n",
      "File \u001b[0;32m~/Library/CloudStorage/OneDrive-Personal/Documents/Visual Studio 2019/Repos/ffiec-xbrl/FDIC/DatabaseHandler.py:180\u001b[0m, in \u001b[0;36mDatabaseHandler.process_dataframe\u001b[0;34m(self, df)\u001b[0m\n\u001b[1;32m    177\u001b[0m \u001b[38;5;28;01mfor\u001b[39;00m (rssd_id, report_date), group \u001b[38;5;129;01min\u001b[39;00m df\u001b[38;5;241m.\u001b[39mgroupby([\u001b[38;5;124m'\u001b[39m\u001b[38;5;124mRSSD_ID\u001b[39m\u001b[38;5;124m'\u001b[39m, \u001b[38;5;124m'\u001b[39m\u001b[38;5;124mReportPeriodEndDate\u001b[39m\u001b[38;5;124m'\u001b[39m]):\n\u001b[1;32m    178\u001b[0m     \u001b[38;5;66;03m# Get or create institution\u001b[39;00m\n\u001b[1;32m    179\u001b[0m     \u001b[38;5;28;01mif\u001b[39;00m rssd_id \u001b[38;5;129;01mnot\u001b[39;00m \u001b[38;5;129;01min\u001b[39;00m institution_cache:\n\u001b[0;32m--> 180\u001b[0m         institution \u001b[38;5;241m=\u001b[39m \u001b[38;5;28;43mself\u001b[39;49m\u001b[38;5;241;43m.\u001b[39;49m\u001b[43mget_institution_by_rssd\u001b[49m\u001b[43m(\u001b[49m\u001b[43mrssd_id\u001b[49m\u001b[43m)\u001b[49m\n\u001b[1;32m    181\u001b[0m         \u001b[38;5;28;01mif\u001b[39;00m \u001b[38;5;129;01mnot\u001b[39;00m institution:\n\u001b[1;32m    182\u001b[0m             institution_id \u001b[38;5;241m=\u001b[39m \u001b[38;5;28mself\u001b[39m\u001b[38;5;241m.\u001b[39madd_institution(\u001b[38;5;124mf\u001b[39m\u001b[38;5;124m\"\u001b[39m\u001b[38;5;124mInstitution \u001b[39m\u001b[38;5;132;01m{\u001b[39;00mrssd_id\u001b[38;5;132;01m}\u001b[39;00m\u001b[38;5;124m\"\u001b[39m, rssd_id)\n",
      "File \u001b[0;32m~/Library/CloudStorage/OneDrive-Personal/Documents/Visual Studio 2019/Repos/ffiec-xbrl/FDIC/DatabaseHandler.py:122\u001b[0m, in \u001b[0;36mDatabaseHandler.get_institution_by_rssd\u001b[0;34m(self, rssd_id)\u001b[0m\n\u001b[1;32m    120\u001b[0m \u001b[38;5;28;01mdef\u001b[39;00m \u001b[38;5;21mget_institution_by_rssd\u001b[39m(\u001b[38;5;28mself\u001b[39m, rssd_id):\n\u001b[1;32m    121\u001b[0m     \u001b[38;5;28;01mwith\u001b[39;00m \u001b[38;5;28mself\u001b[39m\u001b[38;5;241m.\u001b[39mSession() \u001b[38;5;28;01mas\u001b[39;00m session:\n\u001b[0;32m--> 122\u001b[0m         \u001b[38;5;28;01mreturn\u001b[39;00m \u001b[43msession\u001b[49m\u001b[38;5;241;43m.\u001b[39;49m\u001b[43mquery\u001b[49m\u001b[43m(\u001b[49m\u001b[43mInstitution\u001b[49m\u001b[43m)\u001b[49m\u001b[38;5;241m.\u001b[39mfilter_by(rssd_id\u001b[38;5;241m=\u001b[39mrssd_id)\u001b[38;5;241m.\u001b[39mfirst()\n",
      "File \u001b[0;32m/opt/homebrew/lib/python3.9/site-packages/sqlalchemy/orm/session.py:2952\u001b[0m, in \u001b[0;36mSession.query\u001b[0;34m(self, *entities, **kwargs)\u001b[0m\n\u001b[1;32m   2932\u001b[0m \u001b[38;5;28;01mdef\u001b[39;00m \u001b[38;5;21mquery\u001b[39m(\n\u001b[1;32m   2933\u001b[0m     \u001b[38;5;28mself\u001b[39m, \u001b[38;5;241m*\u001b[39mentities: _ColumnsClauseArgument[Any], \u001b[38;5;241m*\u001b[39m\u001b[38;5;241m*\u001b[39mkwargs: Any\n\u001b[1;32m   2934\u001b[0m ) \u001b[38;5;241m-\u001b[39m\u001b[38;5;241m>\u001b[39m Query[Any]:\n\u001b[1;32m   2935\u001b[0m \u001b[38;5;250m    \u001b[39m\u001b[38;5;124;03m\"\"\"Return a new :class:`_query.Query` object corresponding to this\u001b[39;00m\n\u001b[1;32m   2936\u001b[0m \u001b[38;5;124;03m    :class:`_orm.Session`.\u001b[39;00m\n\u001b[1;32m   2937\u001b[0m \n\u001b[0;32m   (...)\u001b[0m\n\u001b[1;32m   2949\u001b[0m \n\u001b[1;32m   2950\u001b[0m \u001b[38;5;124;03m    \"\"\"\u001b[39;00m\n\u001b[0;32m-> 2952\u001b[0m     \u001b[38;5;28;01mreturn\u001b[39;00m \u001b[38;5;28;43mself\u001b[39;49m\u001b[38;5;241;43m.\u001b[39;49m\u001b[43m_query_cls\u001b[49m\u001b[43m(\u001b[49m\u001b[43mentities\u001b[49m\u001b[43m,\u001b[49m\u001b[43m \u001b[49m\u001b[38;5;28;43mself\u001b[39;49m\u001b[43m,\u001b[49m\u001b[43m \u001b[49m\u001b[38;5;241;43m*\u001b[39;49m\u001b[38;5;241;43m*\u001b[39;49m\u001b[43mkwargs\u001b[49m\u001b[43m)\u001b[49m\n",
      "File \u001b[0;32m/opt/homebrew/lib/python3.9/site-packages/sqlalchemy/orm/query.py:275\u001b[0m, in \u001b[0;36mQuery.__init__\u001b[0;34m(self, entities, session)\u001b[0m\n\u001b[1;32m    269\u001b[0m \u001b[38;5;66;03m# session is usually present.  There's one case in subqueryloader\u001b[39;00m\n\u001b[1;32m    270\u001b[0m \u001b[38;5;66;03m# where it stores a Query without a Session and also there are tests\u001b[39;00m\n\u001b[1;32m    271\u001b[0m \u001b[38;5;66;03m# for the query(Entity).with_session(session) API which is likely in\u001b[39;00m\n\u001b[1;32m    272\u001b[0m \u001b[38;5;66;03m# some old recipes, however these are legacy as select() can now be\u001b[39;00m\n\u001b[1;32m    273\u001b[0m \u001b[38;5;66;03m# used.\u001b[39;00m\n\u001b[1;32m    274\u001b[0m \u001b[38;5;28mself\u001b[39m\u001b[38;5;241m.\u001b[39msession \u001b[38;5;241m=\u001b[39m session  \u001b[38;5;66;03m# type: ignore\u001b[39;00m\n\u001b[0;32m--> 275\u001b[0m \u001b[38;5;28;43mself\u001b[39;49m\u001b[38;5;241;43m.\u001b[39;49m\u001b[43m_set_entities\u001b[49m\u001b[43m(\u001b[49m\u001b[43mentities\u001b[49m\u001b[43m)\u001b[49m\n",
      "File \u001b[0;32m/opt/homebrew/lib/python3.9/site-packages/sqlalchemy/orm/query.py:287\u001b[0m, in \u001b[0;36mQuery._set_entities\u001b[0;34m(self, entities)\u001b[0m\n\u001b[1;32m    281\u001b[0m \u001b[38;5;28;01mdef\u001b[39;00m \u001b[38;5;21m_set_entities\u001b[39m(\n\u001b[1;32m    282\u001b[0m     \u001b[38;5;28mself\u001b[39m,\n\u001b[1;32m    283\u001b[0m     entities: Union[\n\u001b[1;32m    284\u001b[0m         _ColumnsClauseArgument[Any], Iterable[_ColumnsClauseArgument[Any]]\n\u001b[1;32m    285\u001b[0m     ],\n\u001b[1;32m    286\u001b[0m ) \u001b[38;5;241m-\u001b[39m\u001b[38;5;241m>\u001b[39m \u001b[38;5;28;01mNone\u001b[39;00m:\n\u001b[0;32m--> 287\u001b[0m     \u001b[38;5;28mself\u001b[39m\u001b[38;5;241m.\u001b[39m_raw_columns \u001b[38;5;241m=\u001b[39m [\n\u001b[1;32m    288\u001b[0m         coercions\u001b[38;5;241m.\u001b[39mexpect(\n\u001b[1;32m    289\u001b[0m             roles\u001b[38;5;241m.\u001b[39mColumnsClauseRole,\n\u001b[1;32m    290\u001b[0m             ent,\n\u001b[1;32m    291\u001b[0m             apply_propagate_attrs\u001b[38;5;241m=\u001b[39m\u001b[38;5;28mself\u001b[39m,\n\u001b[1;32m    292\u001b[0m             post_inspect\u001b[38;5;241m=\u001b[39m\u001b[38;5;28;01mTrue\u001b[39;00m,\n\u001b[1;32m    293\u001b[0m         )\n\u001b[1;32m    294\u001b[0m         \u001b[38;5;28;01mfor\u001b[39;00m ent \u001b[38;5;129;01min\u001b[39;00m util\u001b[38;5;241m.\u001b[39mto_list(entities)\n\u001b[1;32m    295\u001b[0m     ]\n",
      "File \u001b[0;32m/opt/homebrew/lib/python3.9/site-packages/sqlalchemy/orm/query.py:288\u001b[0m, in \u001b[0;36m<listcomp>\u001b[0;34m(.0)\u001b[0m\n\u001b[1;32m    281\u001b[0m \u001b[38;5;28;01mdef\u001b[39;00m \u001b[38;5;21m_set_entities\u001b[39m(\n\u001b[1;32m    282\u001b[0m     \u001b[38;5;28mself\u001b[39m,\n\u001b[1;32m    283\u001b[0m     entities: Union[\n\u001b[1;32m    284\u001b[0m         _ColumnsClauseArgument[Any], Iterable[_ColumnsClauseArgument[Any]]\n\u001b[1;32m    285\u001b[0m     ],\n\u001b[1;32m    286\u001b[0m ) \u001b[38;5;241m-\u001b[39m\u001b[38;5;241m>\u001b[39m \u001b[38;5;28;01mNone\u001b[39;00m:\n\u001b[1;32m    287\u001b[0m     \u001b[38;5;28mself\u001b[39m\u001b[38;5;241m.\u001b[39m_raw_columns \u001b[38;5;241m=\u001b[39m [\n\u001b[0;32m--> 288\u001b[0m         \u001b[43mcoercions\u001b[49m\u001b[38;5;241;43m.\u001b[39;49m\u001b[43mexpect\u001b[49m\u001b[43m(\u001b[49m\n\u001b[1;32m    289\u001b[0m \u001b[43m            \u001b[49m\u001b[43mroles\u001b[49m\u001b[38;5;241;43m.\u001b[39;49m\u001b[43mColumnsClauseRole\u001b[49m\u001b[43m,\u001b[49m\n\u001b[1;32m    290\u001b[0m \u001b[43m            \u001b[49m\u001b[43ment\u001b[49m\u001b[43m,\u001b[49m\n\u001b[1;32m    291\u001b[0m \u001b[43m            \u001b[49m\u001b[43mapply_propagate_attrs\u001b[49m\u001b[38;5;241;43m=\u001b[39;49m\u001b[38;5;28;43mself\u001b[39;49m\u001b[43m,\u001b[49m\n\u001b[1;32m    292\u001b[0m \u001b[43m            \u001b[49m\u001b[43mpost_inspect\u001b[49m\u001b[38;5;241;43m=\u001b[39;49m\u001b[38;5;28;43;01mTrue\u001b[39;49;00m\u001b[43m,\u001b[49m\n\u001b[1;32m    293\u001b[0m \u001b[43m        \u001b[49m\u001b[43m)\u001b[49m\n\u001b[1;32m    294\u001b[0m         \u001b[38;5;28;01mfor\u001b[39;00m ent \u001b[38;5;129;01min\u001b[39;00m util\u001b[38;5;241m.\u001b[39mto_list(entities)\n\u001b[1;32m    295\u001b[0m     ]\n",
      "File \u001b[0;32m/opt/homebrew/lib/python3.9/site-packages/sqlalchemy/sql/coercions.py:389\u001b[0m, in \u001b[0;36mexpect\u001b[0;34m(role, element, apply_propagate_attrs, argname, post_inspect, disable_inspection, **kw)\u001b[0m\n\u001b[1;32m    387\u001b[0m \u001b[38;5;28;01mif\u001b[39;00m insp \u001b[38;5;129;01mis\u001b[39;00m \u001b[38;5;129;01mnot\u001b[39;00m \u001b[38;5;28;01mNone\u001b[39;00m:\n\u001b[1;32m    388\u001b[0m     \u001b[38;5;28;01mif\u001b[39;00m post_inspect:\n\u001b[0;32m--> 389\u001b[0m         \u001b[43minsp\u001b[49m\u001b[38;5;241;43m.\u001b[39;49m\u001b[43m_post_inspect\u001b[49m\n\u001b[1;32m    390\u001b[0m     \u001b[38;5;28;01mtry\u001b[39;00m:\n\u001b[1;32m    391\u001b[0m         resolved \u001b[38;5;241m=\u001b[39m insp\u001b[38;5;241m.\u001b[39m__clause_element__()\n",
      "File \u001b[0;32m/opt/homebrew/lib/python3.9/site-packages/sqlalchemy/util/langhelpers.py:1253\u001b[0m, in \u001b[0;36mHasMemoized.memoized_attribute.__get__\u001b[0;34m(self, obj, cls)\u001b[0m\n\u001b[1;32m   1251\u001b[0m \u001b[38;5;28;01mif\u001b[39;00m obj \u001b[38;5;129;01mis\u001b[39;00m \u001b[38;5;28;01mNone\u001b[39;00m:\n\u001b[1;32m   1252\u001b[0m     \u001b[38;5;28;01mreturn\u001b[39;00m \u001b[38;5;28mself\u001b[39m\n\u001b[0;32m-> 1253\u001b[0m obj\u001b[38;5;241m.\u001b[39m\u001b[38;5;18m__dict__\u001b[39m[\u001b[38;5;28mself\u001b[39m\u001b[38;5;241m.\u001b[39m\u001b[38;5;18m__name__\u001b[39m] \u001b[38;5;241m=\u001b[39m result \u001b[38;5;241m=\u001b[39m \u001b[38;5;28;43mself\u001b[39;49m\u001b[38;5;241;43m.\u001b[39;49m\u001b[43mfget\u001b[49m\u001b[43m(\u001b[49m\u001b[43mobj\u001b[49m\u001b[43m)\u001b[49m\n\u001b[1;32m   1254\u001b[0m obj\u001b[38;5;241m.\u001b[39m_memoized_keys \u001b[38;5;241m|\u001b[39m\u001b[38;5;241m=\u001b[39m {\u001b[38;5;28mself\u001b[39m\u001b[38;5;241m.\u001b[39m\u001b[38;5;18m__name__\u001b[39m}\n\u001b[1;32m   1255\u001b[0m \u001b[38;5;28;01mreturn\u001b[39;00m result\n",
      "File \u001b[0;32m/opt/homebrew/lib/python3.9/site-packages/sqlalchemy/orm/mapper.py:2711\u001b[0m, in \u001b[0;36mMapper._post_inspect\u001b[0;34m(self)\u001b[0m\n\u001b[1;32m   2700\u001b[0m \u001b[38;5;129m@HasMemoized\u001b[39m\u001b[38;5;241m.\u001b[39mmemoized_attribute\n\u001b[1;32m   2701\u001b[0m \u001b[38;5;28;01mdef\u001b[39;00m \u001b[38;5;21m_post_inspect\u001b[39m(\u001b[38;5;28mself\u001b[39m):\n\u001b[1;32m   2702\u001b[0m \u001b[38;5;250m    \u001b[39m\u001b[38;5;124;03m\"\"\"This hook is invoked by attribute inspection.\u001b[39;00m\n\u001b[1;32m   2703\u001b[0m \n\u001b[1;32m   2704\u001b[0m \u001b[38;5;124;03m    E.g. when Query calls:\u001b[39;00m\n\u001b[0;32m   (...)\u001b[0m\n\u001b[1;32m   2709\u001b[0m \n\u001b[1;32m   2710\u001b[0m \u001b[38;5;124;03m    \"\"\"\u001b[39;00m\n\u001b[0;32m-> 2711\u001b[0m     \u001b[38;5;28;43mself\u001b[39;49m\u001b[38;5;241;43m.\u001b[39;49m\u001b[43m_check_configure\u001b[49m\u001b[43m(\u001b[49m\u001b[43m)\u001b[49m\n",
      "File \u001b[0;32m/opt/homebrew/lib/python3.9/site-packages/sqlalchemy/orm/mapper.py:2388\u001b[0m, in \u001b[0;36mMapper._check_configure\u001b[0;34m(self)\u001b[0m\n\u001b[1;32m   2380\u001b[0m \u001b[38;5;129m@util\u001b[39m\u001b[38;5;241m.\u001b[39mlanghelpers\u001b[38;5;241m.\u001b[39mtag_method_for_warnings(\n\u001b[1;32m   2381\u001b[0m     \u001b[38;5;124m\"\u001b[39m\u001b[38;5;124mThis warning originated from the `configure_mappers()` process, \u001b[39m\u001b[38;5;124m\"\u001b[39m\n\u001b[1;32m   2382\u001b[0m     \u001b[38;5;124m\"\u001b[39m\u001b[38;5;124mwhich was invoked automatically in response to a user-initiated \u001b[39m\u001b[38;5;124m\"\u001b[39m\n\u001b[0;32m   (...)\u001b[0m\n\u001b[1;32m   2385\u001b[0m )\n\u001b[1;32m   2386\u001b[0m \u001b[38;5;28;01mdef\u001b[39;00m \u001b[38;5;21m_check_configure\u001b[39m(\u001b[38;5;28mself\u001b[39m) \u001b[38;5;241m-\u001b[39m\u001b[38;5;241m>\u001b[39m \u001b[38;5;28;01mNone\u001b[39;00m:\n\u001b[1;32m   2387\u001b[0m     \u001b[38;5;28;01mif\u001b[39;00m \u001b[38;5;28mself\u001b[39m\u001b[38;5;241m.\u001b[39mregistry\u001b[38;5;241m.\u001b[39m_new_mappers:\n\u001b[0;32m-> 2388\u001b[0m         \u001b[43m_configure_registries\u001b[49m\u001b[43m(\u001b[49m\u001b[43m{\u001b[49m\u001b[38;5;28;43mself\u001b[39;49m\u001b[38;5;241;43m.\u001b[39;49m\u001b[43mregistry\u001b[49m\u001b[43m}\u001b[49m\u001b[43m,\u001b[49m\u001b[43m \u001b[49m\u001b[43mcascade\u001b[49m\u001b[38;5;241;43m=\u001b[39;49m\u001b[38;5;28;43;01mTrue\u001b[39;49;00m\u001b[43m)\u001b[49m\n",
      "File \u001b[0;32m/opt/homebrew/lib/python3.9/site-packages/sqlalchemy/orm/mapper.py:4204\u001b[0m, in \u001b[0;36m_configure_registries\u001b[0;34m(registries, cascade)\u001b[0m\n\u001b[1;32m   4198\u001b[0m     Mapper\u001b[38;5;241m.\u001b[39mdispatch\u001b[38;5;241m.\u001b[39m_for_class(Mapper)\u001b[38;5;241m.\u001b[39mbefore_configured()  \u001b[38;5;66;03m# type: ignore # noqa: E501\u001b[39;00m\n\u001b[1;32m   4199\u001b[0m     \u001b[38;5;66;03m# initialize properties on all mappers\u001b[39;00m\n\u001b[1;32m   4200\u001b[0m     \u001b[38;5;66;03m# note that _mapper_registry is unordered, which\u001b[39;00m\n\u001b[1;32m   4201\u001b[0m     \u001b[38;5;66;03m# may randomly conceal/reveal issues related to\u001b[39;00m\n\u001b[1;32m   4202\u001b[0m     \u001b[38;5;66;03m# the order of mapper compilation\u001b[39;00m\n\u001b[0;32m-> 4204\u001b[0m     \u001b[43m_do_configure_registries\u001b[49m\u001b[43m(\u001b[49m\u001b[43mregistries\u001b[49m\u001b[43m,\u001b[49m\u001b[43m \u001b[49m\u001b[43mcascade\u001b[49m\u001b[43m)\u001b[49m\n\u001b[1;32m   4205\u001b[0m \u001b[38;5;28;01mfinally\u001b[39;00m:\n\u001b[1;32m   4206\u001b[0m     _already_compiling \u001b[38;5;241m=\u001b[39m \u001b[38;5;28;01mFalse\u001b[39;00m\n",
      "File \u001b[0;32m/opt/homebrew/lib/python3.9/site-packages/sqlalchemy/orm/mapper.py:4245\u001b[0m, in \u001b[0;36m_do_configure_registries\u001b[0;34m(registries, cascade)\u001b[0m\n\u001b[1;32m   4243\u001b[0m \u001b[38;5;28;01mif\u001b[39;00m \u001b[38;5;129;01mnot\u001b[39;00m mapper\u001b[38;5;241m.\u001b[39mconfigured:\n\u001b[1;32m   4244\u001b[0m     \u001b[38;5;28;01mtry\u001b[39;00m:\n\u001b[0;32m-> 4245\u001b[0m         \u001b[43mmapper\u001b[49m\u001b[38;5;241;43m.\u001b[39;49m\u001b[43m_post_configure_properties\u001b[49m\u001b[43m(\u001b[49m\u001b[43m)\u001b[49m\n\u001b[1;32m   4246\u001b[0m         mapper\u001b[38;5;241m.\u001b[39m_expire_memoizations()\n\u001b[1;32m   4247\u001b[0m         mapper\u001b[38;5;241m.\u001b[39mdispatch\u001b[38;5;241m.\u001b[39mmapper_configured(mapper, mapper\u001b[38;5;241m.\u001b[39mclass_)\n",
      "File \u001b[0;32m/opt/homebrew/lib/python3.9/site-packages/sqlalchemy/orm/mapper.py:2405\u001b[0m, in \u001b[0;36mMapper._post_configure_properties\u001b[0;34m(self)\u001b[0m\n\u001b[1;32m   2402\u001b[0m \u001b[38;5;28mself\u001b[39m\u001b[38;5;241m.\u001b[39m_log(\u001b[38;5;124m\"\u001b[39m\u001b[38;5;124minitialize prop \u001b[39m\u001b[38;5;132;01m%s\u001b[39;00m\u001b[38;5;124m\"\u001b[39m, key)\n\u001b[1;32m   2404\u001b[0m \u001b[38;5;28;01mif\u001b[39;00m prop\u001b[38;5;241m.\u001b[39mparent \u001b[38;5;129;01mis\u001b[39;00m \u001b[38;5;28mself\u001b[39m \u001b[38;5;129;01mand\u001b[39;00m \u001b[38;5;129;01mnot\u001b[39;00m prop\u001b[38;5;241m.\u001b[39m_configure_started:\n\u001b[0;32m-> 2405\u001b[0m     \u001b[43mprop\u001b[49m\u001b[38;5;241;43m.\u001b[39;49m\u001b[43minit\u001b[49m\u001b[43m(\u001b[49m\u001b[43m)\u001b[49m\n\u001b[1;32m   2407\u001b[0m \u001b[38;5;28;01mif\u001b[39;00m prop\u001b[38;5;241m.\u001b[39m_configure_finished:\n\u001b[1;32m   2408\u001b[0m     prop\u001b[38;5;241m.\u001b[39mpost_instrument_class(\u001b[38;5;28mself\u001b[39m)\n",
      "File \u001b[0;32m/opt/homebrew/lib/python3.9/site-packages/sqlalchemy/orm/interfaces.py:584\u001b[0m, in \u001b[0;36mMapperProperty.init\u001b[0;34m(self)\u001b[0m\n\u001b[1;32m    577\u001b[0m \u001b[38;5;250m\u001b[39m\u001b[38;5;124;03m\"\"\"Called after all mappers are created to assemble\u001b[39;00m\n\u001b[1;32m    578\u001b[0m \u001b[38;5;124;03mrelationships between mappers and perform other post-mapper-creation\u001b[39;00m\n\u001b[1;32m    579\u001b[0m \u001b[38;5;124;03minitialization steps.\u001b[39;00m\n\u001b[1;32m    580\u001b[0m \n\u001b[1;32m    581\u001b[0m \n\u001b[1;32m    582\u001b[0m \u001b[38;5;124;03m\"\"\"\u001b[39;00m\n\u001b[1;32m    583\u001b[0m \u001b[38;5;28mself\u001b[39m\u001b[38;5;241m.\u001b[39m_configure_started \u001b[38;5;241m=\u001b[39m \u001b[38;5;28;01mTrue\u001b[39;00m\n\u001b[0;32m--> 584\u001b[0m \u001b[38;5;28;43mself\u001b[39;49m\u001b[38;5;241;43m.\u001b[39;49m\u001b[43mdo_init\u001b[49m\u001b[43m(\u001b[49m\u001b[43m)\u001b[49m\n\u001b[1;32m    585\u001b[0m \u001b[38;5;28mself\u001b[39m\u001b[38;5;241m.\u001b[39m_configure_finished \u001b[38;5;241m=\u001b[39m \u001b[38;5;28;01mTrue\u001b[39;00m\n",
      "File \u001b[0;32m/opt/homebrew/lib/python3.9/site-packages/sqlalchemy/orm/relationships.py:1642\u001b[0m, in \u001b[0;36mRelationshipProperty.do_init\u001b[0;34m(self)\u001b[0m\n\u001b[1;32m   1640\u001b[0m \u001b[38;5;28mself\u001b[39m\u001b[38;5;241m.\u001b[39m_check_conflicts()\n\u001b[1;32m   1641\u001b[0m \u001b[38;5;28mself\u001b[39m\u001b[38;5;241m.\u001b[39m_process_dependent_arguments()\n\u001b[0;32m-> 1642\u001b[0m \u001b[38;5;28;43mself\u001b[39;49m\u001b[38;5;241;43m.\u001b[39;49m\u001b[43m_setup_entity\u001b[49m\u001b[43m(\u001b[49m\u001b[43m)\u001b[49m\n\u001b[1;32m   1643\u001b[0m \u001b[38;5;28mself\u001b[39m\u001b[38;5;241m.\u001b[39m_setup_registry_dependencies()\n\u001b[1;32m   1644\u001b[0m \u001b[38;5;28mself\u001b[39m\u001b[38;5;241m.\u001b[39m_setup_join_conditions()\n",
      "File \u001b[0;32m/opt/homebrew/lib/python3.9/site-packages/sqlalchemy/orm/relationships.py:1854\u001b[0m, in \u001b[0;36mRelationshipProperty._setup_entity\u001b[0;34m(self, _RelationshipProperty__argument)\u001b[0m\n\u001b[1;32m   1847\u001b[0m resolved_argument: _ExternalEntityType[Any]\n\u001b[1;32m   1849\u001b[0m \u001b[38;5;28;01mif\u001b[39;00m \u001b[38;5;28misinstance\u001b[39m(argument, \u001b[38;5;28mstr\u001b[39m):\n\u001b[1;32m   1850\u001b[0m     \u001b[38;5;66;03m# we might want to cleanup clsregistry API to make this\u001b[39;00m\n\u001b[1;32m   1851\u001b[0m     \u001b[38;5;66;03m# more straightforward\u001b[39;00m\n\u001b[1;32m   1852\u001b[0m     resolved_argument \u001b[38;5;241m=\u001b[39m cast(\n\u001b[1;32m   1853\u001b[0m         \u001b[38;5;124m\"\u001b[39m\u001b[38;5;124m_ExternalEntityType[Any]\u001b[39m\u001b[38;5;124m\"\u001b[39m,\n\u001b[0;32m-> 1854\u001b[0m         \u001b[38;5;28;43mself\u001b[39;49m\u001b[38;5;241;43m.\u001b[39;49m\u001b[43m_clsregistry_resolve_name\u001b[49m\u001b[43m(\u001b[49m\u001b[43margument\u001b[49m\u001b[43m)\u001b[49m\u001b[43m(\u001b[49m\u001b[43m)\u001b[49m,\n\u001b[1;32m   1855\u001b[0m     )\n\u001b[1;32m   1856\u001b[0m \u001b[38;5;28;01melif\u001b[39;00m \u001b[38;5;28mcallable\u001b[39m(argument) \u001b[38;5;129;01mand\u001b[39;00m \u001b[38;5;129;01mnot\u001b[39;00m \u001b[38;5;28misinstance\u001b[39m(\n\u001b[1;32m   1857\u001b[0m     argument, (\u001b[38;5;28mtype\u001b[39m, mapperlib\u001b[38;5;241m.\u001b[39mMapper)\n\u001b[1;32m   1858\u001b[0m ):\n\u001b[1;32m   1859\u001b[0m     resolved_argument \u001b[38;5;241m=\u001b[39m argument()\n",
      "File \u001b[0;32m/opt/homebrew/lib/python3.9/site-packages/sqlalchemy/orm/clsregistry.py:520\u001b[0m, in \u001b[0;36m_class_resolver._resolve_name\u001b[0;34m(self)\u001b[0m\n\u001b[1;32m    518\u001b[0m             rval \u001b[38;5;241m=\u001b[39m \u001b[38;5;28mgetattr\u001b[39m(rval, token)\n\u001b[1;32m    519\u001b[0m \u001b[38;5;28;01mexcept\u001b[39;00m \u001b[38;5;167;01mKeyError\u001b[39;00m \u001b[38;5;28;01mas\u001b[39;00m err:\n\u001b[0;32m--> 520\u001b[0m     \u001b[38;5;28;43mself\u001b[39;49m\u001b[38;5;241;43m.\u001b[39;49m\u001b[43m_raise_for_name\u001b[49m\u001b[43m(\u001b[49m\u001b[43mname\u001b[49m\u001b[43m,\u001b[49m\u001b[43m \u001b[49m\u001b[43merr\u001b[49m\u001b[43m)\u001b[49m\n\u001b[1;32m    521\u001b[0m \u001b[38;5;28;01mexcept\u001b[39;00m \u001b[38;5;167;01mNameError\u001b[39;00m \u001b[38;5;28;01mas\u001b[39;00m n:\n\u001b[1;32m    522\u001b[0m     \u001b[38;5;28mself\u001b[39m\u001b[38;5;241m.\u001b[39m_raise_for_name(n\u001b[38;5;241m.\u001b[39margs[\u001b[38;5;241m0\u001b[39m], n)\n",
      "File \u001b[0;32m/opt/homebrew/lib/python3.9/site-packages/sqlalchemy/orm/clsregistry.py:501\u001b[0m, in \u001b[0;36m_class_resolver._raise_for_name\u001b[0;34m(self, name, err)\u001b[0m\n\u001b[1;32m    491\u001b[0m     \u001b[38;5;28;01mraise\u001b[39;00m exc\u001b[38;5;241m.\u001b[39mInvalidRequestError(\n\u001b[1;32m    492\u001b[0m         \u001b[38;5;124mf\u001b[39m\u001b[38;5;124m\"\u001b[39m\u001b[38;5;124mWhen initializing mapper \u001b[39m\u001b[38;5;132;01m{\u001b[39;00m\u001b[38;5;28mself\u001b[39m\u001b[38;5;241m.\u001b[39mprop\u001b[38;5;241m.\u001b[39mparent\u001b[38;5;132;01m}\u001b[39;00m\u001b[38;5;124m, \u001b[39m\u001b[38;5;124m\"\u001b[39m\n\u001b[1;32m    493\u001b[0m         \u001b[38;5;124mf\u001b[39m\u001b[38;5;124m'\u001b[39m\u001b[38;5;124mexpression \u001b[39m\u001b[38;5;124m\"\u001b[39m\u001b[38;5;124mrelationship(\u001b[39m\u001b[38;5;132;01m{\u001b[39;00m\u001b[38;5;28mself\u001b[39m\u001b[38;5;241m.\u001b[39marg\u001b[38;5;132;01m!r}\u001b[39;00m\u001b[38;5;124m)\u001b[39m\u001b[38;5;124m\"\u001b[39m\u001b[38;5;124m seems to be \u001b[39m\u001b[38;5;124m'\u001b[39m\n\u001b[0;32m   (...)\u001b[0m\n\u001b[1;32m    498\u001b[0m         \u001b[38;5;124mf\u001b[39m\u001b[38;5;124m\"\u001b[39m\u001b[38;5;124m[\u001b[39m\u001b[38;5;124m'\u001b[39m\u001b[38;5;132;01m{\u001b[39;00mclsarg\u001b[38;5;132;01m}\u001b[39;00m\u001b[38;5;124m'\u001b[39m\u001b[38;5;124m]] = relationship()\u001b[39m\u001b[38;5;130;01m\\\"\u001b[39;00m\u001b[38;5;124m\"\u001b[39m\n\u001b[1;32m    499\u001b[0m     ) \u001b[38;5;28;01mfrom\u001b[39;00m \u001b[38;5;21;01merr\u001b[39;00m\n\u001b[1;32m    500\u001b[0m \u001b[38;5;28;01melse\u001b[39;00m:\n\u001b[0;32m--> 501\u001b[0m     \u001b[38;5;28;01mraise\u001b[39;00m exc\u001b[38;5;241m.\u001b[39mInvalidRequestError(\n\u001b[1;32m    502\u001b[0m         \u001b[38;5;124m\"\u001b[39m\u001b[38;5;124mWhen initializing mapper \u001b[39m\u001b[38;5;132;01m%s\u001b[39;00m\u001b[38;5;124m, expression \u001b[39m\u001b[38;5;132;01m%r\u001b[39;00m\u001b[38;5;124m failed to \u001b[39m\u001b[38;5;124m\"\u001b[39m\n\u001b[1;32m    503\u001b[0m         \u001b[38;5;124m\"\u001b[39m\u001b[38;5;124mlocate a name (\u001b[39m\u001b[38;5;132;01m%r\u001b[39;00m\u001b[38;5;124m). If this is a class name, consider \u001b[39m\u001b[38;5;124m\"\u001b[39m\n\u001b[1;32m    504\u001b[0m         \u001b[38;5;124m\"\u001b[39m\u001b[38;5;124madding this relationship() to the \u001b[39m\u001b[38;5;132;01m%r\u001b[39;00m\u001b[38;5;124m class after \u001b[39m\u001b[38;5;124m\"\u001b[39m\n\u001b[1;32m    505\u001b[0m         \u001b[38;5;124m\"\u001b[39m\u001b[38;5;124mboth dependent classes have been defined.\u001b[39m\u001b[38;5;124m\"\u001b[39m\n\u001b[1;32m    506\u001b[0m         \u001b[38;5;241m%\u001b[39m (\u001b[38;5;28mself\u001b[39m\u001b[38;5;241m.\u001b[39mprop\u001b[38;5;241m.\u001b[39mparent, \u001b[38;5;28mself\u001b[39m\u001b[38;5;241m.\u001b[39marg, name, \u001b[38;5;28mself\u001b[39m\u001b[38;5;241m.\u001b[39mcls)\n\u001b[1;32m    507\u001b[0m     ) \u001b[38;5;28;01mfrom\u001b[39;00m \u001b[38;5;21;01merr\u001b[39;00m\n",
      "\u001b[0;31mInvalidRequestError\u001b[0m: When initializing mapper Mapper[Field(fields)], expression 'ReportForm' failed to locate a name ('ReportForm'). If this is a class name, consider adding this relationship() to the <class 'FDIC.DatabaseHandler.Field'> class after both dependent classes have been defined."
     ]
    }
   ],
   "source": [
    "etl.GenBankMaster_to_db()"
   ]
  },
  {
   "cell_type": "markdown",
   "metadata": {},
   "source": [
    "--Build MDRM_Dict--"
   ]
  },
  {
   "cell_type": "code",
   "execution_count": 2,
   "metadata": {},
   "outputs": [],
   "source": [
    "try:\n",
    "    if etl:\n",
    "        pass\n",
    "except:\n",
    "        rate_limiter = RateLimiter(max_calls=2450, period_in_seconds=3660) #~2.4k every 60min\n",
    "        etl = ETL(paths.WSDL_path, rate_limiter)"
   ]
  },
  {
   "cell_type": "code",
   "execution_count": 3,
   "metadata": {},
   "outputs": [],
   "source": [
    "#filters = {'Mnemonic':['CALL',\n",
    "#                            'CENB','IADX','IBFQ','RCCD','RCCF','RCEG',\n",
    "#                       'RCFD',\n",
    "#                            'RCFA', 'RCFW',\n",
    "#                       'RCFN',\n",
    "#                       'RCON',\n",
    "#                          'RCF0','RCF1','RCF2','RCF3','RCF4','RCF5','RCF6','RCF7','RCF8','RCF9','RCOA','RCOW',\n",
    "#                       'RCOS','RIAD','RIAS','RIDM','RIFN','SCHJ',\n",
    "#                  ]}\n",
    "filters = {'Reporting Form':['FFIEC 031', 'FFIEC 041', 'FFIEC 051']}\n",
    "\n",
    "etl.build_MDRMdict(filters=filters)\n",
    "#merged, mdf, bdf = etl.build_MDRMdict(export_path=None,filters=filters)\n",
    "\n",
    "#folderpath_bank = '/Users/kris/data_sources/fdic/BulkReports/1ST BANK OF SEA ISLE CITY_148470/'\n",
    "#etl.build_MDRM_datatype(filepath_MDRM =paths.folder_Orig + paths.filename_MDRM, folderpath_callReport =folderpath_bank)"
   ]
  },
  {
   "cell_type": "code",
   "execution_count": null,
   "metadata": {},
   "outputs": [],
   "source": [
    "merged\n",
    "merged[merged.duplicated(['MDRM_Item'], keep=False)]"
   ]
  },
  {
   "cell_type": "code",
   "execution_count": null,
   "metadata": {},
   "outputs": [],
   "source": [
    "#mdf[mdf['Reporting_Form']=='FFIEC 051']\n",
    "#mdf[mdf.duplicated('MDRM_Item', keep=False)]\n",
    "mdf"
   ]
  },
  {
   "cell_type": "code",
   "execution_count": null,
   "metadata": {},
   "outputs": [],
   "source": [
    "bdf"
   ]
  },
  {
   "cell_type": "code",
   "execution_count": null,
   "metadata": {},
   "outputs": [],
   "source": [
    "#MDRM_df = pd.read_csv(paths.folder_Orig + paths.filename_MDRM)\n",
    "MDRM_df.columns.dtype\n",
    "MDRM_df.Reporting_Form_Num"
   ]
  },
  {
   "cell_type": "markdown",
   "metadata": {},
   "source": [
    "--Start of Dataframe Sandbox--"
   ]
  },
  {
   "cell_type": "code",
   "execution_count": null,
   "metadata": {},
   "outputs": [],
   "source": [
    "spec_path = '/Users/kris/data_sources/fdic/BulkReports/1ST BANK OF SEA ISLE CITY_148470'\n",
    "spec_paths = [spec_path]\n",
    "\n",
    "rate_limiter = RateLimiter(max_calls=2450, period_in_seconds=3660) #~2.4k every 60min\n",
    "etl = ETL(paths.WSDL_path, rate_limiter)\n",
    "\n",
    "etl.GenBankMaster(specific_paths=spec_paths)"
   ]
  },
  {
   "cell_type": "code",
   "execution_count": null,
   "metadata": {},
   "outputs": [],
   "source": [
    "import os\n",
    "\n",
    "#base_folders = [x for x in glob.glob(path + '*[!.]') if not(os.path.isfile(x))]\n",
    "print(glob.glob(path + '*[!.]'))"
   ]
  },
  {
   "cell_type": "code",
   "execution_count": null,
   "metadata": {},
   "outputs": [],
   "source": [
    "## Create DF from Mastercall\n",
    "path = paths.localPath + paths.filename_MasterCall\n",
    "df = etl.loadCSV(path)"
   ]
  },
  {
   "cell_type": "code",
   "execution_count": null,
   "metadata": {},
   "outputs": [],
   "source": [
    "## Create DF from ALL Bankcalls\n",
    "path = '/Users/kris/data_sources/fdic/BulkReports/'\n",
    "df = etl.createDF_from_CSV(path_root =path)\n",
    "df"
   ]
  },
  {
   "cell_type": "code",
   "execution_count": null,
   "metadata": {},
   "outputs": [],
   "source": [
    "df[:25]"
   ]
  },
  {
   "cell_type": "code",
   "execution_count": null,
   "metadata": {},
   "outputs": [],
   "source": [
    "#Number of RSSD's by Period, by RSSD_ID, by MDRM_Item\n",
    "g_df = df[df['RSSD_ID']==28013].groupby(['MDRM_Item', 'RSSD_ID', 'ReportPeriodEndDate'])['MDRM_Item'].count()\n",
    "g_df"
   ]
  },
  {
   "cell_type": "code",
   "execution_count": null,
   "metadata": {},
   "outputs": [],
   "source": [
    "#Field count by date (RSSD report count)\n",
    "pvt = df[['MDRM_Item', 'ReportPeriodEndDate']].pivot_table(\n",
    "    index=['MDRM_Item'],\n",
    "    columns=['ReportPeriodEndDate'],\n",
    "    values=['MDRM_Item'],\n",
    "    aggfunc={'MDRM_Item': ['count']}\n",
    ")\n",
    "pvt.fillna(0, inplace=True)\n",
    "pvt\n",
    "\n",
    "#Filter out either rows or columns with only no reporting (only zeros)\n",
    "#filtered_pvt = pvt.loc[(pvt > 0).any(axis=1),:]\n",
    "filtered_pvt = pvt.loc[:, (pvt > 0).any(axis=0)]\n",
    "filtered_pvt"
   ]
  },
  {
   "cell_type": "code",
   "execution_count": null,
   "metadata": {},
   "outputs": [],
   "source": [
    "#Number of filers (RSSD's) by date\n",
    "pvt = df[['ReportPeriodEndDate', 'RSSD_ID']].drop_duplicates().reset_index().pivot_table(\n",
    "    index=['ReportPeriodEndDate'],\n",
    "    values=['RSSD_ID'],\n",
    "    aggfunc={'RSSD_ID': ['count']}\n",
    ").sort_values(by='ReportPeriodEndDate', ascending=False)\n",
    "\n",
    "pvt = pvt.set_axis([col for col in pvt.keys()], axis=1)\n",
    "#pvt.reset_index(inplace=True)\n",
    "\n",
    "pvt.fillna(0, inplace=True)\n",
    "pvt"
   ]
  },
  {
   "cell_type": "code",
   "execution_count": null,
   "metadata": {},
   "outputs": [],
   "source": [
    "filepath = 'PubData/MDRM_Dict.csv'\n",
    "mdrm = etl.loadCSV(path = filepath)\n",
    "mdrm"
   ]
  },
  {
   "cell_type": "code",
   "execution_count": null,
   "metadata": {},
   "outputs": [],
   "source": [
    "mdrm[mdrm['Item_Name'].str.contains('TOTAL ASSETS')]\n",
    "mdrm[mdrm['Item_Name'] == 'TOTAL ASSETS ']\n",
    "#mdrm.iloc[1196]"
   ]
  },
  {
   "cell_type": "code",
   "execution_count": null,
   "metadata": {},
   "outputs": [],
   "source": [
    "df[df['MDRM_Item']=='RCON2170']"
   ]
  },
  {
   "cell_type": "code",
   "execution_count": null,
   "metadata": {},
   "outputs": [],
   "source": [
    "##Find rows that don't have INT values in Value column\n",
    "df.dtypes\n",
    "\n",
    "invalid_rows = df[df['Value'].apply(lambda x: isinstance(x, str) and not x.replace('.', '', 1).isdigit())]\n",
    "invalid_rows"
   ]
  },
  {
   "cell_type": "code",
   "execution_count": null,
   "metadata": {},
   "outputs": [],
   "source": [
    "##Format dtypes of dataframe\n",
    "df = df.astype({\n",
    "    'ReportPeriodEndDate': 'datetime64[ns]',\n",
    "    'Item_Name': 'str',\n",
    "    'MDRM_Item': 'str',\n",
    "    'Confidential': 'bool'\n",
    "    #'Value': 'float'\n",
    "    })"
   ]
  },
  {
   "cell_type": "code",
   "execution_count": null,
   "metadata": {},
   "outputs": [],
   "source": [
    "## Print analytics from dataframe\n",
    "\n",
    "#Filter df by Item and Confidential status\n",
    "#filtered_df = df[(df['MDRM_Item']=='RCON2170') & (df['Confidential']=='No')].astype({'Value': int})\n",
    "filtered_df = df[(df['MDRM_Item']=='RCON2170')].astype({'Value': int})\n",
    "\n",
    "totals = filtered_df.groupby(by='ReportPeriodEndDate')['Value'].sum().astype(int)\n",
    "totals\n",
    "\n",
    "counts = filtered_df.groupby(by='ReportPeriodEndDate')['Value'].count().astype(int)\n",
    "counts\n",
    "\n",
    "pctChgs = totals.pct_change()\n",
    "pctChgs\n",
    "\n",
    "res = pd.DataFrame({'Values':totals, 'pctChgs':pctChgs, 'Counts':counts})\n",
    "res.index = res.index.strftime('%Y-%m-%d')\n",
    "res.style.format({\n",
    "    'Values': '{:,}',\n",
    "    'pctChgs': lambda x: '{:.2%}'.format(x) if pd.notna(x) else x,\n",
    "    'Counts': '{:,}'\n",
    "})\n"
   ]
  },
  {
   "cell_type": "code",
   "execution_count": null,
   "metadata": {},
   "outputs": [],
   "source": [
    "from matplotlib import pyplot as plt\n",
    "\n",
    "# Plotting\n",
    "fig, ax1 = plt.subplots()\n",
    "\n",
    "# Plot summed values\n",
    "color = 'tab:blue'\n",
    "ax1.set_xlabel('ReportPeriodEndDate')\n",
    "ax1.set_ylabel('Summed Values', color=color)\n",
    "ax1.plot(res.index, res['Values'], color=color)\n",
    "ax1.tick_params(axis='y', labelcolor=color)\n",
    "\n",
    "# Create a second y-axis for percentage change\n",
    "ax2 = ax1.twinx()\n",
    "color = 'tab:red'\n",
    "ax2.set_ylabel('Percentage Change', color=color)\n",
    "ax2.plot(res.index, res['pctChgs'], color=color)\n",
    "ax2.tick_params(axis='y', labelcolor=color)\n",
    "\n",
    "# Format the x-axis dates\n",
    "#fig.autofmt_xdate()\n",
    "\n",
    "# Set x-axis major ticks to show at regular intervals\n",
    "interval = 4\n",
    "ax1.set_xticks(res.index[::interval])\n",
    "\n",
    "# Rotate the x-axis labels for better readability\n",
    "plt.setp(ax1.get_xticklabels(), rotation=45, ha=\"right\")\n",
    "\n",
    "# Add a title\n",
    "plt.title('Total Assets and YoY Chg')\n",
    "\n",
    "# Show the plot\n",
    "plt.show()\n",
    "\n"
   ]
  },
  {
   "cell_type": "code",
   "execution_count": null,
   "metadata": {},
   "outputs": [],
   "source": [
    "#filtered_df = df[(df['ReportPeriodEndDate']=='2001-03-31') & (df['MDRM_Item']=='RCON2170')]\n",
    "filtered_df = df[(df['RSSD_ID']=='140362') & (df['MDRM_Item']=='RCON2170') & (df['Confidential']==False)]\n",
    "filtered_df"
   ]
  },
  {
   "cell_type": "markdown",
   "metadata": {},
   "source": [
    "---ETL Tools---"
   ]
  },
  {
   "cell_type": "code",
   "execution_count": null,
   "metadata": {},
   "outputs": [],
   "source": [
    "etl_tools = ETLtools.ETLtools()\n",
    "etl_tools.remove_files(folderpath= paths.localPath + paths.folder_BulkReports, filetypes=['csv'])"
   ]
  }
 ],
 "metadata": {
  "kernelspec": {
   "display_name": "Python 3",
   "language": "python",
   "name": "python3"
  },
  "language_info": {
   "codemirror_mode": {
    "name": "ipython",
    "version": 3
   },
   "file_extension": ".py",
   "mimetype": "text/x-python",
   "name": "python",
   "nbconvert_exporter": "python",
   "pygments_lexer": "ipython3",
   "version": "3.9.18"
  }
 },
 "nbformat": 4,
 "nbformat_minor": 2
}
