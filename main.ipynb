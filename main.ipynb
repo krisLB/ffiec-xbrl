{
 "cells": [
  {
   "cell_type": "code",
   "execution_count": null,
   "metadata": {},
   "outputs": [],
   "source": [
    "# GET POR Files Already Downloaded\n",
    "import glob\n",
    "import shutil\n",
    "\n",
    "source = '/Users/kris/Downloads/FFIEC/'\n",
    "destination = '/Users/kris/Library/CloudStorage/OneDrive-Personal/Documents/Visual Studio 2019/Repos/ffiec-xbrl/PubData/Src/RSSDs/'\n",
    "\n",
    "for src in glob.glob(source + '*/* POR *'):\n",
    "    shutil.copy(src, destination)"
   ]
  },
  {
   "cell_type": "code",
   "execution_count": 1,
   "metadata": {},
   "outputs": [],
   "source": [
    "# Imports and Constants\n",
    "import pandas as pd\n",
    "import numpy as np\n",
    "\n",
    "#dtypes = {'RSSD_ID':str,\n",
    "#          'FDIC_Certificate_Number':str,\n",
    "#          'OCC_Charter_Number':str,\n",
    "#          'OTS_Docket_Number':str,\n",
    "#          'Primary_ABA_Routing_Number':str,\n",
    "#          'Financial_Institution_Name': str,\n",
    "#          'Financial_Institution_Address': str,\n",
    "#          'Financial_Institution_City': str,\n",
    "#          'Financial_Institution_State': str,\n",
    "#          'Financial_Institution_Zip_Code': str,\n",
    "#          'Financial_Institution_Filing_Type': str,\n",
    "#          'Last Date/Time Submission Updated On': 'str'}\n",
    "\n",
    "dtypes = {'IDRSSD': np.dtype('str'),\n",
    "          'FDIC Certificate Number': np.dtype('str'),\n",
    "          'OCC Charter Number': np.dtype('str'),\n",
    "          'OTS Docket Number': np.dtype('str'),\n",
    "          'Primary ABA Routing Number': np.dtype('str'),\n",
    "          'Financial Institution Name': np.dtype('str'),\n",
    "          'Financial Institution Address': np.dtype('str'),\n",
    "          'Financial Institution City': np.dtype('str'),\n",
    "          'Financial Institution State': np.dtype('str'),\n",
    "          'Financial Institution Zip Code': np.dtype('str'),\n",
    "          'Financial Institution Filing Type': np.dtype('str'),\n",
    "          'Last Date/Time Submission Updated On': np.dtype('str')}\n",
    "\n",
    "filepath_in = 'PubData/Src/RSSDs/'\n",
    "filepath_out = 'PubData/'\n",
    "filename = 'FFIEC CDR Call Bulk POR 03312024.txt'"
   ]
  },
  {
   "cell_type": "code",
   "execution_count": null,
   "metadata": {},
   "outputs": [],
   "source": [
    "# Compare Bank_Dim and RSSD_Dict\n",
    "df_bank = pd.read_csv(filepath_out + 'Bank_Dim.csv', sep=',', index_col=False, quotechar='\"')\n",
    "df_rssd = pd.read_csv(filepath_out + 'RSSD_Dict.csv', sep=',', index_col=False, quotechar='\"')\n",
    "\n",
    "print(df_bank.shape, df_rssd.shape)\n"
   ]
  },
  {
   "cell_type": "code",
   "execution_count": 2,
   "metadata": {},
   "outputs": [],
   "source": [
    "#Open File (Bank_dim from RSSD_Por)\n",
    "\n",
    "#with open(filename, 'r') as file:\n",
    "df = pd.read_csv(filepath_in + filename, sep='\\t', index_col=False, quotechar='\"', dtype = dtypes, parse_dates=['Last Date/Time Submission Updated On'])"
   ]
  },
  {
   "cell_type": "code",
   "execution_count": 3,
   "metadata": {},
   "outputs": [],
   "source": [
    "#Clean RSSD_Por File\n",
    "df = df.apply(lambda x: x.str.strip() if x.dtype.name == 'object' else x, axis=0)"
   ]
  },
  {
   "cell_type": "code",
   "execution_count": 4,
   "metadata": {},
   "outputs": [],
   "source": [
    "#Clean RSSD_Por Format - Align with and Create RSSD_Dict.csv\n",
    "df.rename(columns={'IDRSSD': 'RSSD_ID'}, inplace=True)\n",
    "df.columns = df.columns.str.replace(' ', '_')\n",
    "\n",
    "#Create RSSD_Dict file\n",
    "#df.iloc[:25].to_csv(filepath_out + 'RSSD_Dict.csv', sep=',', quotechar='\"', index= False,)\n",
    "df.to_csv(filepath_out + 'RSSD_Dict.csv', sep=',', quotechar='\"', index= False)"
   ]
  },
  {
   "cell_type": "code",
   "execution_count": null,
   "metadata": {},
   "outputs": [],
   "source": [
    "#Confirm data\n",
    "df[:5]\n",
    "\n",
    "#df.Financial_Institution_Address\n",
    "df.iloc[0,6]"
   ]
  },
  {
   "cell_type": "code",
   "execution_count": 5,
   "metadata": {},
   "outputs": [
    {
     "name": "stdout",
     "output_type": "stream",
     "text": [
      "Already downloaded: BANK OF HANCOCK COUNTY_37\n",
      "Already downloaded: FIRST COMMUNITY BANK XENIAFLORA_242\n",
      "Already downloaded: BROADSTREET BANK SSB_279\n",
      "Already downloaded: BISON STATE BANK_354\n",
      "Already downloaded: LOWRY STATE BANK_457\n",
      "Already downloaded: BALLSTON SPA NATIONAL BANK_505\n",
      "Already downloaded: RVR BANK_1155\n",
      "Already downloaded: BANK OF GRANDIN_1351\n",
      "Already downloaded: HILLTOP NATIONAL BANK_1454\n",
      "Already downloaded: LIBERTY NATIONAL BANK IN PARIS THE_1669\n",
      "Already downloaded: WASHITA STATE BANK_1856\n",
      "Already downloaded: LAMAR NATIONAL BANK_2161\n",
      "Already downloaded: ALBANY BANK  TRUST CO NATIONAL ASSOCIATION_2732\n",
      "Already downloaded: GENOA COMMUNITY BANK_2750\n",
      "Already downloaded: FIRST NATIONAL BANK OF GORDON THE_3252\n",
      "Already downloaded: FARMBANK_3458\n",
      "Already downloaded: BANK OF CLARENDON THE_3720\n"
     ]
    },
    {
     "ename": "UnboundLocalError",
     "evalue": "local variable 'skipped_dtypes' referenced before assignment",
     "output_type": "error",
     "traceback": [
      "\u001b[0;31m---------------------------------------------------------------------------\u001b[0m",
      "\u001b[0;31mUnboundLocalError\u001b[0m                         Traceback (most recent call last)",
      "Cell \u001b[0;32mIn[5], line 10\u001b[0m\n\u001b[1;32m      7\u001b[0m etl \u001b[38;5;241m=\u001b[39m ETL(paths\u001b[38;5;241m.\u001b[39mWSDL_path, rate_limiter)\n\u001b[1;32m      8\u001b[0m \u001b[38;5;66;03m#ExEngine.FillMaster('504713')\u001b[39;00m\n\u001b[1;32m      9\u001b[0m \u001b[38;5;66;03m#etl.GenBankDim()\u001b[39;00m\n\u001b[0;32m---> 10\u001b[0m \u001b[43metl\u001b[49m\u001b[38;5;241;43m.\u001b[39;49m\u001b[43mDownloadCallReports\u001b[49m\u001b[43m(\u001b[49m\u001b[43m[\u001b[49m\u001b[38;5;124;43m'\u001b[39;49m\u001b[38;5;124;43mXBRL\u001b[39;49m\u001b[38;5;124;43m'\u001b[39;49m\u001b[43m]\u001b[49m\u001b[43m)\u001b[49m\n\u001b[1;32m     12\u001b[0m \u001b[38;5;66;03m#etl.ParseXBRL()\u001b[39;00m\n\u001b[1;32m     13\u001b[0m \u001b[38;5;66;03m#etl.GenBankMaster()\u001b[39;00m\n\u001b[1;32m     14\u001b[0m \u001b[38;5;66;03m#etl.GenCallMaster()\u001b[39;00m\n",
      "File \u001b[0;32m~/Library/CloudStorage/OneDrive-Personal/Documents/Visual Studio 2019/Repos/ffiec-xbrl/FDIC/ETL.py:337\u001b[0m, in \u001b[0;36mETL.DownloadCallReports\u001b[0;34m(self, ftypes)\u001b[0m\n\u001b[1;32m    335\u001b[0m     \u001b[38;5;28;01mcontinue\u001b[39;00m\n\u001b[1;32m    336\u001b[0m \u001b[38;5;28;01melif\u001b[39;00m os\u001b[38;5;241m.\u001b[39mpath\u001b[38;5;241m.\u001b[39misfile(paths\u001b[38;5;241m.\u001b[39mlocalPath \u001b[38;5;241m+\u001b[39m paths\u001b[38;5;241m.\u001b[39mfolder_BulkReports \u001b[38;5;241m+\u001b[39m fbkn_forPath \u001b[38;5;241m+\u001b[39m \u001b[38;5;124m'\u001b[39m\u001b[38;5;124m/\u001b[39m\u001b[38;5;124m'\u001b[39m \u001b[38;5;241m+\u001b[39m paths\u001b[38;5;241m.\u001b[39mfilename_Skipped):\n\u001b[0;32m--> 337\u001b[0m     skipped_df \u001b[38;5;241m=\u001b[39m wsio\u001b[38;5;241m.\u001b[39mReadCSV(skippedFile_path, dtype\u001b[38;5;241m=\u001b[39m\u001b[43mskipped_dtypes\u001b[49m)\n\u001b[1;32m    338\u001b[0m     skipped_dates \u001b[38;5;241m=\u001b[39m skipped_df[\u001b[38;5;124m'\u001b[39m\u001b[38;5;124mDate\u001b[39m\u001b[38;5;124m'\u001b[39m]\u001b[38;5;241m.\u001b[39mvalues\n\u001b[1;32m    339\u001b[0m     skipped_len \u001b[38;5;241m=\u001b[39m \u001b[38;5;28mlen\u001b[39m(skipped_dates)\n",
      "\u001b[0;31mUnboundLocalError\u001b[0m: local variable 'skipped_dtypes' referenced before assignment"
     ]
    }
   ],
   "source": [
    "from FDIC import ExEngine\n",
    "from FDIC.ETL import ETL, RateLimiter\n",
    "from FDIC import constants as paths\n",
    "\n",
    "rate_limiter = RateLimiter(max_calls=10, period_in_seconds=40)\n",
    "#rate_limiter = RateLimiter(max_calls=1000, period_in_seconds=3660)\n",
    "etl = ETL(paths.WSDL_path, rate_limiter)\n",
    "#ExEngine.FillMaster('504713')\n",
    "#etl.GenBankDim()\n",
    "etl.DownloadCallReports(['XBRL'])\n",
    "\n",
    "#etl.ParseXBRL()\n",
    "#etl.GenBankMaster()\n",
    "#etl.GenCallMaster()"
   ]
  },
  {
   "cell_type": "code",
   "execution_count": null,
   "metadata": {},
   "outputs": [],
   "source": [
    "call_report_path = '/Users/kris/data_sources/fdic/BulkReports/ACNB BANK_5210/ACNB BANK_5210_20010331.XBRL'\n",
    "bank_path = '/Users/kris/data_sources/fdic/BulkReports/ACNB BANK_5210/'\n",
    "folder_path = '/Users/kris/data_sources/fdic/BulkReports/'\n",
    "\n",
    "#tot = etl.ParseXBRL(call_report_path)\n",
    "etl.GenBankMaster()\n",
    "#etl.GenCallMaster()"
   ]
  },
  {
   "cell_type": "code",
   "execution_count": null,
   "metadata": {},
   "outputs": [],
   "source": [
    "etl.GenCallMaster()"
   ]
  },
  {
   "cell_type": "code",
   "execution_count": null,
   "metadata": {},
   "outputs": [],
   "source": [
    "import FDIC.constants as paths\n",
    "import pandas as pd\n",
    "#tot\n",
    "\n",
    "df = pd.read_csv(paths.localPath + paths.filename_MasterCall)\n"
   ]
  },
  {
   "cell_type": "code",
   "execution_count": null,
   "metadata": {},
   "outputs": [],
   "source": [
    "df.head(1)"
   ]
  },
  {
   "cell_type": "code",
   "execution_count": null,
   "metadata": {},
   "outputs": [],
   "source": [
    "#Number of RSSD's by Period, by RSSD_ID, by MDRM_Item\n",
    "g_df = df[df['RSSD_ID']==28013].groupby(['MDRM_Item', 'RSSD_ID', 'ReportPeriodEndDate'])['MDRM_Item'].count()\n",
    "g_df"
   ]
  },
  {
   "cell_type": "code",
   "execution_count": null,
   "metadata": {},
   "outputs": [],
   "source": [
    "#Number of RSSD's by field by date\n",
    "pvt = df[['MDRM_Item', 'ReportPeriodEndDate']].pivot_table(\n",
    "    index=['MDRM_Item'],\n",
    "    columns=['ReportPeriodEndDate'],\n",
    "    values=['MDRM_Item'],\n",
    "    aggfunc={'MDRM_Item': ['count']}\n",
    ")\n",
    "pvt.fillna(0, inplace=True)\n",
    "pvt"
   ]
  },
  {
   "cell_type": "code",
   "execution_count": null,
   "metadata": {},
   "outputs": [],
   "source": [
    "#Number of RSSD's by date\n",
    "pvt = df[['ReportPeriodEndDate', 'RSSD_ID']].drop_duplicates().reset_index().pivot_table(\n",
    "    index=['ReportPeriodEndDate'],\n",
    "    values=['RSSD_ID'],\n",
    "    aggfunc={'RSSD_ID': ['count']}\n",
    ").sort_values(by='ReportPeriodEndDate', ascending=False)\n",
    "\n",
    "pvt = pvt.set_axis([col for col in pvt.keys()], axis=1)\n",
    "#pvt.reset_index(inplace=True)\n",
    "\n",
    "pvt.fillna(0, inplace=True)\n",
    "pvt"
   ]
  },
  {
   "cell_type": "code",
   "execution_count": null,
   "metadata": {},
   "outputs": [],
   "source": []
  },
  {
   "cell_type": "code",
   "execution_count": null,
   "metadata": {},
   "outputs": [],
   "source": [
    "#df\n",
    "grouped_df = df[['MDRM_Item', 'Item_Name']].drop_duplicates().groupby(['MDRM_Item', 'Item_Name']).size().reset_index(name='Count')\n",
    "print(grouped_df)"
   ]
  },
  {
   "cell_type": "code",
   "execution_count": null,
   "metadata": {},
   "outputs": [],
   "source": []
  }
 ],
 "metadata": {
  "kernelspec": {
   "display_name": "Python 3",
   "language": "python",
   "name": "python3"
  },
  "language_info": {
   "codemirror_mode": {
    "name": "ipython",
    "version": 3
   },
   "file_extension": ".py",
   "mimetype": "text/x-python",
   "name": "python",
   "nbconvert_exporter": "python",
   "pygments_lexer": "ipython3",
   "version": "3.9.18"
  }
 },
 "nbformat": 4,
 "nbformat_minor": 2
}
